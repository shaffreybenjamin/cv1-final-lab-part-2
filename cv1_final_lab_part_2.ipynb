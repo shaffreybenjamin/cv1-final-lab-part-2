{
 "cells": [
  {
   "cell_type": "markdown",
   "metadata": {
    "id": "vzW_uc8bvtFj"
   },
   "source": [
    "<center> <img src=\"https://miro.medium.com/v2/resize:fit:1200/1*lbDXL0IuitCRz4mpZ7MmfQ.png\" width=55% > </center>\n",
    "\n",
    "<br><br>\n",
    "\n",
    "<center>\n",
    "    <font size=\"6\">Final Lab (Part 2): Image Classification using Convolutional Neural Networks </font>\n",
    "</center>\n",
    "<center>\n",
    "    <font size=\"4\">Computer Vision 1 University of Amsterdam</font>\n",
    "</center>\n",
    "<center>\n",
    "    <font size=\"4\">Due 23:59PM, October 18, 2024 (Amsterdam time)</font>\n",
    "</center>\n",
    "<center>\n",
    "    <font size=\"4\"><b>TA's:  Yue, Konrad & Thies</b></font>\n",
    "</center>\n",
    "\n",
    "<br><br>\n",
    "\n",
    "***\n",
    "\n",
    "<br><br>\n",
    "\n",
    "<center>\n",
    "\n",
    "Student1 ID:  \\\n",
    "Student1 Name:\n",
    "\n",
    "Student2 ID: \\\n",
    "Student2 Name:\n",
    "\n",
    "Student3 ID: 13853163\\\n",
    "Student3 Name Benjamin Shaffrey:\n",
    "\n",
    "Student4 ID: 15050025\\\n",
    "Student4 Name: Christina Isaicu\n",
    "\n",
    "</center>"
   ]
  },
  {
   "cell_type": "markdown",
   "metadata": {
    "id": "M-qY1CUhvtFn"
   },
   "source": [
    "### **Coding Guidelines**\n",
    "\n",
    "Your code must be handed in this Jupyter notebook, renamed to **StudentID1_StudentID2_StudentID3.ipynb** before the deadline by submitting it to the Canvas Final Lab: Image Classification Assignment. Please also fill out your names and IDs above.\n",
    "\n",
    "For full credit, make sure your notebook follows these guidelines:\n",
    "\n",
    "- Please express your thoughts **concisely**. The number of words does not necessarily correlate with how well you understand the concepts.\n",
    "- Understand the problem as much as you can. When answering a question, provide evidence (qualitative and/or quantitative results, references to papers, figures, etc.) to support your arguments. Not everything might be explicitly asked for, so think about what might strengthen your arguments to make the notebook self-contained and complete.\n",
    "- Tables and figures must be accompanied by a **brief** description. Add a number, a title, and, if applicable, the name and unit of variables in a table, and name and unit of axes and legends in a figure.\n",
    "\n",
    "**Late submissions are not allowed.** Assignments submitted after the strict deadline will not be graded. In case of submission conflicts, TAs’ system clock is taken as reference. We strongly recommend submitting well in advance to avoid last-minute system failure issues.\n",
    "\n",
    "**Environment:** Since this is a project-based assignment, you are free to use any feature descriptor and machine learning tools (e.g., K-means, SVM). You should use Python for your implementation. You are free to use any Python library for this assignment, but make sure to provide a conda environment file!\n",
    "\n",
    "**Plagiarism Note:** Keep in mind that plagiarism (submitted materials which are not your work) is a serious offense and any misconduct will be addressed according to university regulations. This includes using generative tools such as ChatGPT.\n",
    "\n",
    "**Ensure that you save all results/answers to the questions (even if you reuse some code).**"
   ]
  },
  {
   "cell_type": "markdown",
   "metadata": {
    "id": "Oh1MdIwavtFo"
   },
   "source": [
    "### **Report Preparation**\n",
    "\n",
    "Your tasks include the following:\n",
    "\n",
    "1. **Report Preparation:** For both parts of the final project, students are expected to prepare a report. The report should include all details on implementation approaches, analysis of results for different settings, and visualizations illustrating experiments and performance of your implementation. Grading will be based on the report, so it should be as self-contained as possible. If the report contains faulty results or ambiguities, TAs can refer to your code for clarification.\n",
    "\n",
    "2. **Explanation of Results:** Do not just provide numbers without explanation. Discuss different settings to show your understanding of the material and processes involved.\n",
    "\n",
    "3. **Quantitative Evaluation:** For quantitative evaluation, you are expected to provide the results based on performance (accuracy, learning loss and learning curves).\n",
    "\n",
    "4. **Aim:** Understand the basic Image Classification pipeline using Convolutional Neural Nets (CNN's).\n",
    "\n",
    "5. **Working on Assignments:** Students should work in assigned groups for **two** weeks. Any questions can be discussed on ED.\n",
    "\n",
    "    - **Submission:** Submit your source code and report together in a zip file (`ID1_ID2_ID3_part2.zip`). The report should be a maximum of 10 pages (single-column, including tables and figures, excluding references and appendix). Express thoughts concisely. Tables and figures must be accompanied by a description. Number them and, if applicable, name variables in tables, and label axes in figures.\n",
    "\n",
    "6. **Hyperparameter Search:** In your experiments, remember to perform a hyperparameter search to find the optimal settings for your model(s). Clearly document the search process, the parameters you explored, and how they influenced the performance of your model.\n",
    "\n",
    "8. **Format and Testing:** The report should be in **PDF format**, and the code in **.ipynb format**. Test that all functionality works as expected in the notebook."
   ]
  },
  {
   "cell_type": "markdown",
   "metadata": {
    "id": "3fp3zpjcvtFp"
   },
   "source": [
    "### **Overview**\n",
    "\n",
    "- [Section 1: Image Classification on CIFAR-100 (0 points)](#section-1)\n",
    "- [Section 2: Visualizing CIFAR-100 Classes and Subclasses (3 points)](#section-2)\n",
    "- [Section 3: TwoLayerNet Architecture (2 points)](#section-3)\n",
    "- [Section 4: ConvNet Architecture (2 points)](#section-4)\n",
    "- [Section 5: Preparation of Training (7 points)](#section-5)\n",
    "- [Section 6: Training the Networks (5 points)](#section-6)\n",
    "- [Section 7: Setting Up the Hyperparameters (14 points)](#section-7)\n",
    "- [Section 8: Visualizing the STL-10 Dataset and Preparing the Data Loader (3 points)](#section-8)\n",
    "- [Section 9: Fine-tuning ConvNet on STL-10 (14 points)](#section-9)\n",
    "- [Section 10: Bonus Challenge (optional)](#section-10)\n",
    "- [Section X: Individual Contribution Report (Mandatory)](#section-x)"
   ]
  },
  {
   "cell_type": "markdown",
   "metadata": {
    "id": "4t_qWNnrvtFp"
   },
   "source": [
    "### **Section 1: Image Classification on CIFAR-100 (0 points)**\n",
    "\n",
    "The goal of this lab is to implement an image classification system using Convolutional Neural Networks (CNNs) that can identify objects from a set of classes in the [CIFAR-100 dataset](https://www.cs.toronto.edu/~kriz/cifar.html). You will implement and compare two different architectures: a simple two-layer network and a ConvNet based on the LeNet architecture.\n",
    "\n",
    "The CIFAR-100 dataset contains 32x32 pixel RGB images, categorized into 100 different classes. The dataset will be automatically downloaded and loaded using the code provided in this notebook.\n",
    "\n",
    "You will train and test your classification system using the entire CIFAR-100 dataset. Ensure that the test images are excluded from training to maintain a fair evaluation of the model's performance."
   ]
  },
  {
   "cell_type": "code",
   "execution_count": 1,
   "metadata": {
    "ExecuteTime": {
     "end_time": "2024-10-16T00:17:38.011035Z",
     "start_time": "2024-10-16T00:17:32.640197Z"
    },
    "id": "IO23QZYpvtFq"
   },
   "outputs": [],
   "source": [
    "import matplotlib.pyplot as plt\n",
    "import numpy as np\n",
    "import sklearn.metrics\n",
    "import torch\n",
    "import torch.nn as nn\n",
    "import torch.nn.functional as F\n",
    "import torch.optim as optim\n",
    "import torchvision\n",
    "import torchvision.transforms as transforms\n",
    "\n",
    "from PIL import Image\n",
    "from torchinfo import summary\n",
    "from torch.utils.data import DataLoader, Dataset, random_split\n",
    "from tqdm.notebook import tqdm\n",
    "from sklearn import metrics\n",
    "\n",
    "import json\n",
    "import os\n",
    "import random"
   ]
  },
  {
   "cell_type": "code",
   "execution_count": 2,
   "metadata": {
    "ExecuteTime": {
     "end_time": "2024-10-16T00:17:38.044416Z",
     "start_time": "2024-10-16T00:17:38.014085Z"
    },
    "id": "m3Ew9c-W9cdj"
   },
   "outputs": [],
   "source": [
    "def set_seed(seed):\n",
    "    '''\n",
    "    Set the seed for reproducibility.\n",
    "\n",
    "    Args:\n",
    "        seed (int): Seed value.\n",
    "    '''\n",
    "    torch.manual_seed(seed)\n",
    "    np.random.seed(seed)\n",
    "    random.seed(seed)\n",
    "\n",
    "    if torch.cuda.is_available():\n",
    "        torch.cuda.manual_seed(seed)\n",
    "        torch.cuda.manual_seed_all(seed)\n",
    "        torch.backends.cudnn.deterministic = True\n",
    "        torch.backends.cudnn.benchmark = False\n",
    "\n",
    "set_seed(42)"
   ]
  },
  {
   "cell_type": "code",
   "execution_count": 3,
   "metadata": {
    "ExecuteTime": {
     "end_time": "2024-10-16T00:17:40.190233Z",
     "start_time": "2024-10-16T00:17:38.024647Z"
    },
    "colab": {
     "base_uri": "https://localhost:8080/"
    },
    "id": "Fjb8cUzsvtFr",
    "outputId": "136d2eea-6d6c-4521-f3a9-ae61ca3be8b0"
   },
   "outputs": [
    {
     "name": "stdout",
     "output_type": "stream",
     "text": [
      "Files already downloaded and verified\n",
      "Files already downloaded and verified\n",
      "Data loaders for CIFAR-100 are ready for use.\n"
     ]
    }
   ],
   "source": [
    "# Define the transformations\n",
    "\n",
    "transform = transforms.Compose([\n",
    "transforms.ToTensor(),\n",
    "transforms.Normalize((0.5, 0.5, 0.5), (0.5, 0.5, 0.5))\n",
    "])\n",
    "\n",
    "\n",
    "# Load the CIFAR-100 training set\n",
    "train_set = torchvision.datasets.CIFAR100(root='./data', train=True, download=True, transform=transform)\n",
    "\n",
    "# Load the CIFAR-100 test set\n",
    "test_set = torchvision.datasets.CIFAR100(root='./data', train=False, download=True, transform=transform)\n",
    "\n",
    "# Create data loaders for the entire CIFAR-100 dataset\n",
    "train_data_loader = DataLoader(train_set, shuffle=True, num_workers=8)\n",
    "test_data_loader = DataLoader(test_set, shuffle=False, num_workers=8)\n",
    "\n",
    "print(\"Data loaders for CIFAR-100 are ready for use.\")\n",
    "\n"
   ]
  },
  {
   "cell_type": "code",
   "execution_count": 10,
   "metadata": {
    "ExecuteTime": {
     "end_time": "2024-10-16T00:17:40.215968Z",
     "start_time": "2024-10-16T00:17:40.192632Z"
    },
    "id": "1PHSl9TDvtFs"
   },
   "outputs": [],
   "source": [
    "# Define CIFAR-100 superclasses and their subclasses\n",
    "superclasses = {\n",
    "    'aquatic mammals': ['beaver', 'dolphin', 'otter', 'seal', 'whale'],\n",
    "    'fish': ['aquarium_fish', 'flatfish', 'ray', 'shark', 'trout'],\n",
    "    'flowers': ['orchid', 'poppy', 'rose', 'sunflower', 'tulip'],\n",
    "    'food containers': ['bottle', 'bowl', 'can', 'cup', 'plate'],\n",
    "    'fruit and vegetables': ['apple', 'mushroom', 'orange', 'pear', 'sweet_pepper'],\n",
    "    'household electrical devices': ['clock', 'keyboard', 'lamp', 'telephone', 'television'],\n",
    "    'household furniture': ['bed', 'chair', 'couch', 'table', 'wardrobe'],\n",
    "    'insects': ['bee', 'beetle', 'butterfly', 'caterpillar', 'cockroach'],\n",
    "    'large carnivores': ['bear', 'leopard', 'lion', 'tiger', 'wolf'],\n",
    "    'large man-made outdoor things': ['bridge', 'castle', 'house', 'road', 'skyscraper'],\n",
    "    'large natural outdoor scenes': ['cloud', 'forest', 'mountain', 'plain', 'sea'],\n",
    "    'large omnivores and herbivores': ['camel', 'cattle', 'chimpanzee', 'elephant', 'kangaroo'],\n",
    "    'medium-sized mammals': ['fox', 'porcupine', 'possum', 'raccoon', 'skunk'],\n",
    "    'non-insect invertebrates': ['crab', 'lobster', 'snail', 'spider', 'worm'],\n",
    "    'people': ['baby', 'boy', 'girl', 'man', 'woman'],\n",
    "    'reptiles': ['crocodile', 'dinosaur', 'lizard', 'snake', 'turtle'],\n",
    "    'small mammals': ['hamster', 'mouse', 'rabbit', 'shrew', 'squirrel'],\n",
    "    'trees': ['maple_tree', 'oak_tree', 'palm_tree', 'pine_tree', 'willow_tree'],\n",
    "    'vehicles 1': ['bicycle', 'bus', 'motorcycle', 'pickup_truck', 'train'],\n",
    "    'vehicles 2': ['lawn_mower', 'rocket', 'streetcar', 'tank', 'tractor']\n",
    "}\n",
    "\n",
    "# List of all CIFAR-100 classes\n",
    "classes = ('apple', 'aquarium_fish', 'baby', 'bear', 'beaver', 'bed', 'bee', 'beetle', 'bicycle', 'bottle',\n",
    "           'bowl', 'boy', 'bridge', 'bus', 'butterfly', 'camel', 'can', 'castle', 'caterpillar', 'cattle',\n",
    "           'chair', 'chimpanzee', 'clock', 'cloud', 'cockroach', 'couch', 'crab', 'crocodile', 'cup', 'dinosaur',\n",
    "           'dolphin', 'elephant', 'flatfish', 'forest', 'fox', 'girl', 'hamster', 'house', 'kangaroo', 'keyboard',\n",
    "           'lamp', 'lawn_mower', 'leopard', 'lion', 'lizard', 'lobster', 'man', 'maple_tree', 'motorcycle', 'mountain',\n",
    "           'mouse', 'mushroom', 'oak_tree', 'orange', 'orchid', 'otter', 'palm_tree', 'pear', 'pickup_truck', 'pine_tree',\n",
    "           'plain', 'plate', 'poppy', 'porcupine', 'possum', 'rabbit', 'raccoon', 'ray', 'road', 'rocket', 'rose', 'sea',\n",
    "           'seal', 'shark', 'shrew', 'skunk', 'skyscraper', 'snail', 'snake', 'spider', 'squirrel', 'streetcar', 'sunflower',\n",
    "           'sweet_pepper', 'table', 'tank', 'telephone', 'television', 'tiger', 'tractor', 'train', 'trout', 'tulip',\n",
    "           'turtle', 'wardrobe', 'whale', 'willow_tree', 'wolf', 'woman', 'worm')\n",
    "\n",
    "# Create a mapping of class names to their indices\n",
    "class_to_idx = {cls_name: idx for idx, cls_name in enumerate(classes)}\n",
    "\n",
    "# Create a mapping of superclasses to their corresponding class indices\n",
    "superclass_to_indices = {supcls: [class_to_idx[cls] for cls in subclasses] for supcls, subclasses in superclasses.items()}"
   ]
  },
  {
   "cell_type": "markdown",
   "metadata": {
    "id": "aufKap2IvtFt"
   },
   "source": [
    "<a id=\"section-2\"></a>\n",
    "### **Section 2: Visualizing CIFAR-100 Classes and Subclasses (3 points)**\n",
    "\n",
    "In this section, you will implement a function to visualize the CIFAR-100 dataset, including **all** superclasses and their corresponding subclasses. Your implementation should provide a clear and organized overview of the dataset's diversity.\n",
    "\n",
    "You add the figure(s) to appendix of your report and refer to it in the main text."
   ]
  },
  {
   "cell_type": "code",
   "execution_count": null,
   "metadata": {
    "ExecuteTime": {
     "end_time": "2024-10-16T00:18:38.815584Z",
     "start_time": "2024-10-16T00:17:41.278635Z"
    },
    "colab": {
     "base_uri": "https://localhost:8080/",
     "height": 1000
    },
    "id": "nxSovqo7vtFt",
    "outputId": "fce562b9-d9a1-4dab-cd94-9cc4aa5949da"
   },
   "outputs": [],
   "source": [
    "# YOUR CODE HERE\n",
    "def visualise_cifar100(train_set, superclasses, superclass_to_indices, classes):\n",
    "    data = torch.tensor(train_set.data)\n",
    "    labels = torch.tensor(train_set.targets)\n",
    "\n",
    "    num_classes_per_superclass = len(superclasses['trees'])\n",
    "    num_samples = num_classes_per_superclass\n",
    "\n",
    "    for superclass in tqdm(superclasses.keys()):\n",
    "        fig, axs = plt.subplots(num_classes_per_superclass, num_samples, figsize=(25, 20))\n",
    "\n",
    "        # Set superclass name as plot title\n",
    "        fig.suptitle(f'Superclass: {superclass}', fontsize=20)\n",
    "        for num_class, index in enumerate(superclass_to_indices[superclass]):\n",
    "            subset = data[labels == index]\n",
    "            random_indices = torch.randperm(subset.size(0))\n",
    "        \n",
    "            # Set the class name as the label for the first column\n",
    "            class_name = classes[index]\n",
    "            axs[num_class, 0].set_ylabel(class_name, fontsize=16, rotation=0, labelpad=80, va='center')\n",
    "        \n",
    "            for num_sample, sample_index in enumerate(random_indices[ : num_samples]):\n",
    "                axs[num_class, num_sample].imshow(subset[sample_index])\n",
    "                axs[num_class, num_sample].set_xticks([])\n",
    "                axs[num_class, num_sample].set_yticks([])\n",
    "\n",
    "visualise_cifar100(train_set, superclasses, superclass_to_indices, classes)"
   ]
  },
  {
   "cell_type": "markdown",
   "metadata": {
    "id": "2MMGIvvAvtFu"
   },
   "source": [
    "<a id=\"section-3\"></a>\n",
    "### **Section 3: TwoLayerNet Architecture (2 points)**\n",
    "\n",
    "In this section, you will implement the architecture of a fully connected neural network called `TwoLayerNet`, consisting of two fully connected layers with a ReLU activation in between. The network accepts an input size of 3x32x32 (CIFAR-100 image), a specified hidden layer size, and the number of output classes. In the `__init__` method, define the first fully connected layer that maps the input size to the hidden size, and the second fully connected layer that maps the hidden size to the number of classes.\n",
    "\n",
    "Ensure to call the parent class constructor using `super(TwoLayerNet, self).__init__()`. In the `forward` method, flatten the input tensor, pass it through the first layer with ReLU activation, and then through the second layer to obtain the final scores.\n",
    "\n",
    "**Note:** You are allowed to modify the provided function definitions as needed."
   ]
  },
  {
   "cell_type": "code",
   "execution_count": null,
   "metadata": {
    "ExecuteTime": {
     "end_time": "2024-10-13T22:20:11.357430Z",
     "start_time": "2024-10-13T22:20:11.103725Z"
    },
    "id": "t33jJV2NvtFv"
   },
   "outputs": [],
   "source": [
    "class TwoLayerNet(nn.Module):\n",
    "\n",
    "    def __init__(self, input_size, hidden_size, num_classes, extra_layers=False):\n",
    "        '''\n",
    "        Initializes the two-layer neural network model.\n",
    "\n",
    "        Args:\n",
    "            input_size (int): The size of the input features.\n",
    "            hidden_size (int): The size of the hidden layer.\n",
    "            num_classes (int): The number of classes in the dataset.\n",
    "        '''\n",
    "\n",
    "        # YOUR CODE HERE\n",
    "        super().__init__()\n",
    "\n",
    "        if extra_layers is False:\n",
    "            layers = [nn.Linear(input_size, hidden_size), nn.ReLU(), nn.Linear(hidden_size, num_classes)]\n",
    "\n",
    "        # MLP with 2 additional linear layers & a batch norm layer\n",
    "        else:\n",
    "            layers = [nn.Linear(input_size, hidden_size), nn.ReLU(), nn.Linear(hidden_size, hidden_size), nn.ReLU(), nn.Linear(hidden_size, hidden_size), nn.ReLU(), nn.BatchNorm1d(hidden_size), nn.ReLU(), nn.Linear(hidden_size, num_classes)]\n",
    "\n",
    "        self.model = nn.Sequential(*layers)\n",
    "\n",
    "    def forward(self, x):\n",
    "        '''\n",
    "        Defines the forward pass of the neural network.\n",
    "\n",
    "        Args:\n",
    "            x (torch.Tensor): The input tensor.\n",
    "\n",
    "        Returns:\n",
    "            torch.Tensor: The output tensor.\n",
    "        '''\n",
    "\n",
    "        # YOUR CODE HERE\n",
    "        # flatten input\n",
    "        x = x.flatten(start_dim=1)\n",
    "        return self.model(x)\n"
   ]
  },
  {
   "cell_type": "markdown",
   "metadata": {
    "id": "0b4-vhb1vtFv"
   },
   "source": [
    "<a id=\"section-4\"></a>\n",
    "### **Section 4: ConvNet Architecture (2 points)**\n",
    "\n",
    "In this section, you will implement a convolutional neural network inspired by the structure of [LeNet-5](https://ieeexplore.ieee.org/document/726791). The network processes color images using three convolutional layers followed by two fully connected layers. Since you need to feed color images into this network, determine the kernel size of the first convolutional layer. Additionally, calculate the number of trainable parameters in the \"F6\" layer, providing the calculation process."
   ]
  },
  {
   "cell_type": "code",
   "execution_count": null,
   "metadata": {
    "ExecuteTime": {
     "end_time": "2024-10-14T08:00:11.771135Z",
     "start_time": "2024-10-14T08:00:11.725761Z"
    },
    "id": "WOmODnMCvtFw"
   },
   "outputs": [],
   "source": [
    "class ConvNet(nn.Module):\n",
    "\n",
    "    def __init__(self, non_linear=None, extra_layers=False, num_classes=100):\n",
    "        '''\n",
    "        Initializes the convolutional neural network model.\n",
    "        Follows the architecture of LeNet-5.\n",
    "\n",
    "        Args:\n",
    "            None\n",
    "        '''\n",
    "\n",
    "        # YOUR CODE HERE\n",
    "        super().__init__()\n",
    "\n",
    "        # original activation functions from LeNet-5 paper\n",
    "        if non_linear is None:\n",
    "            non_linear1 = nn.Tanh()\n",
    "            non_linear2 = nn.Sigmoid()\n",
    "\n",
    "        # replace all activation functions with ReLU\n",
    "        elif non_linear == \"relu\":\n",
    "            non_linear1 = nn.ReLU()\n",
    "            non_linear2 = nn.ReLU()\n",
    "        else:\n",
    "            raise ValueError(\"Invalid non-linear function. Please choose 'relu' or None.\")\n",
    "\n",
    "        layers = []\n",
    "\n",
    "        if extra_layers is False:\n",
    "          # original architecture from LeNet-5\n",
    "\n",
    "          # Layer C1 is a convolutional layer with six feature maps.\n",
    "          # Each unit in each feature map is connected to a 5X5 neighborhood in the input.\n",
    "          # output: 6 feature maps of size 28X28\n",
    "          layers.append(nn.Conv2d(in_channels=3, out_channels=6, kernel_size=5))\n",
    "          # each layer is passed through a squashing function (hyperbolic tangent)\n",
    "          layers.append(non_linear1)\n",
    "\n",
    "          # Layer S2 is a subsampling layer with six feature maps of size 14X14.\n",
    "          # Each unit in each feature map is connected to a 2X2 neighborhood in the corresponding feature map in C1.\n",
    "          # output: 6 feature maps of size 14X14\n",
    "          layers.append(nn.AvgPool2d(kernel_size=2, stride=2))\n",
    "\n",
    "          # The result is passed through a sigmoidal function.\n",
    "          layers.append(non_linear2)\n",
    "\n",
    "          # Layer C3 is a convolutional layer with 16 feature maps.\n",
    "          # Each unit in each feature map is connected to several 5X5\n",
    "          # neighborhoods at identical locations in a subset of S2’s feature maps\n",
    "          # output: 16 feature maps of size 10X10\n",
    "          layers.append(nn.Conv2d(in_channels=6, out_channels=16, kernel_size=5))\n",
    "          layers.append(non_linear1)\n",
    "\n",
    "          # Layer S4 is a subsampling layer with 16 feature maps of size 5X5.\n",
    "          # Each unit in each feature map is connected to a 2X2 neighborhood\n",
    "          # in the corresponding feature map in C3\n",
    "          layers.append(nn.AvgPool2d(kernel_size=2, stride=2))\n",
    "\n",
    "          # Layer C5 is a convolutional layer with 120 feature maps.\n",
    "          # Each unit is connected to a 5x5 neighborhood on all 16\n",
    "          # of S4’s feature maps.\n",
    "          layers.append(nn.Conv2d(in_channels=16, out_channels=120, kernel_size=5))\n",
    "          layers.append(non_linear1)\n",
    "\n",
    "          # Flatten the output of C5 (linear layer expects a 2D input of size (batch_size, num_features))\n",
    "          layers.append(nn.Flatten())\n",
    "\n",
    "          # Layer F6 contains 128 units and is fully connected to C5\n",
    "          # Layer F6 has 10 164 trainable parameters\n",
    "          # Total Parameters = input features ×output features + bias (of size output features)\n",
    "          # 120 * 84 + 84 = 10164\n",
    "          layers.append(nn.Linear(in_features=120, out_features=84))\n",
    "          layers.append(non_linear1)\n",
    "\n",
    "          layers.append(nn.Linear(in_features=84, out_features=num_classes))\n",
    "\n",
    "        else:\n",
    "          # additional batch norm, max pool, and dropouts applied (not counted as extra layers)\n",
    "          # convolutional channel sizes adjusted\n",
    "          layers.append(nn.Conv2d(in_channels=3, out_channels=64, kernel_size=5))\n",
    "          layers.append(nn.BatchNorm2d(64))\n",
    "          layers.append(nn.ReLU())\n",
    "          layers.append(nn.MaxPool2d(kernel_size=2))\n",
    "\n",
    "          layers.append(nn.Conv2d(in_channels=64, out_channels=96, kernel_size=3))\n",
    "          layers.append(nn.BatchNorm2d(96))\n",
    "          layers.append(nn.ReLU())\n",
    "          layers.append(nn.MaxPool2d(kernel_size=2))\n",
    "\n",
    "          layers.append(nn.Conv2d(in_channels=96, out_channels=128, kernel_size=3))\n",
    "          layers.append(nn.BatchNorm2d(128))\n",
    "          layers.append(nn.ReLU())\n",
    "\n",
    "          # 1st addtional layer - convolutional layer\n",
    "          layers.append(nn.Conv2d(in_channels=128, out_channels=128, kernel_size=3))\n",
    "          layers.append(nn.BatchNorm2d(128))\n",
    "          layers.append(nn.ReLU())\n",
    "\n",
    "          layers.append(nn.Flatten(start_dim=1))\n",
    "\n",
    "          # 2nd addtional layer - linear, in_features reshaped to match flatten\n",
    "          layers.append(nn.Linear(in_features=512, out_features=256))\n",
    "          layers.append(nn.ReLU())\n",
    "\n",
    "          layers.append(nn.Dropout(p=0.5))\n",
    "\n",
    "          layers.append(nn.Linear(in_features=256, out_features=128))\n",
    "          layers.append(nn.ReLU())\n",
    "\n",
    "          layers.append(nn.Linear(in_features=128, out_features=num_classes))\n",
    "\n",
    "        self.model = nn.Sequential(*layers)\n",
    "\n",
    "\n",
    "    def forward(self, x):\n",
    "        '''\n",
    "        Defines the forward pass of the neural network.\n",
    "\n",
    "        Args:\n",
    "            x (torch.Tensor): The input tensor.\n",
    "\n",
    "        Returns:\n",
    "            torch.Tensor: The output tensor.\n",
    "        '''\n",
    "\n",
    "        # YOUR CODE HERE\n",
    "        out = self.model(x)\n",
    "        return out\n"
   ]
  },
  {
   "cell_type": "markdown",
   "metadata": {
    "id": "ds2XBCiFvtFw"
   },
   "source": [
    "<a id=\"section-5\"></a>\n",
    "### **Section 5: Preparation of Training (7 points)**\n",
    "\n",
    "In this section, you will create a custom dataset class to load the CIFAR-100 data, define a transform function for data augmentation, and set up an optimizer for training. While the previous section utilized the built-in CIFAR-100 class from `torchvision`, in practice, you often need to prepare datasets manually. Here, you will implement the `CIFAR100_loader` class to handle the dataset and use `DataLoader` to make it iterable. You will also define a transform function for data augmentation and an optimizer for updating the model's parameters."
   ]
  },
  {
   "cell_type": "code",
   "execution_count": 5,
   "metadata": {
    "ExecuteTime": {
     "end_time": "2024-10-13T22:20:18.545082Z",
     "start_time": "2024-10-13T22:20:18.507863Z"
    },
    "id": "I9WhAe44vtFx"
   },
   "outputs": [],
   "source": [
    "class CIFAR100_loader(Dataset):\n",
    "\n",
    "    def __init__(self, root, train=True, transform=None, download=False):\n",
    "        '''\n",
    "        Initializes the CIFAR-100 dataset loader.\n",
    "\n",
    "        Args:\n",
    "            root (str): The root directory to store the dataset.\n",
    "            train (bool): If True, loads the training data; otherwise, loads the test data.\n",
    "            transform (callable, optional): The data transformations to apply.\n",
    "            download (bool): If True, downloads the dataset if it is not already available.\n",
    "        '''\n",
    "\n",
    "        # YOUR CODE HERE\n",
    "        self.data = torchvision.datasets.CIFAR100(root=root, train=train, download=download, transform=transform)\n",
    "\n",
    "    def __len__(self):\n",
    "        '''\n",
    "        Returns the number of samples in the dataset.\n",
    "\n",
    "        Returns:\n",
    "            int: The number of samples in the dataset.\n",
    "        '''\n",
    "\n",
    "        # YOUR CODE HERE\n",
    "        return len(self.data)\n",
    "\n",
    "    def __getitem__(self, idx):\n",
    "        '''\n",
    "        Retrieves a sample from the dataset at the specified index.\n",
    "\n",
    "        Args:\n",
    "            idx (int): The index of the sample to retrieve.\n",
    "\n",
    "        Returns:\n",
    "            tuple: A tuple containing the image and label tensors.\n",
    "        '''\n",
    "\n",
    "        # YOUR CODE HERE\n",
    "        return self.data[idx]"
   ]
  },
  {
   "cell_type": "code",
   "execution_count": null,
   "metadata": {},
   "outputs": [],
   "source": [
    "# from pathlib import Path\n",
    "# import pickle\n",
    "# import requests\n",
    "# import tarfile\n",
    "# import os\n",
    "\n",
    "# class CIFAR100_loader(Dataset):\n",
    "    \n",
    "#     def __init__(self, root, train=True, transform=None, download=False, validate=False):\n",
    "#         self.root = root\n",
    "#         self.train = train\n",
    "#         self.transform = transform\n",
    "\n",
    "#         CWD = Path(os.getcwd())\n",
    "#         ROOT = CWD/Path(self.root)\n",
    "#         os.makedirs(ROOT, exist_ok=True)\n",
    "        \n",
    "#         if download:\n",
    "#             os.chdir(ROOT)\n",
    "#             url = \"https://www.cs.toronto.edu/~kriz/cifar-100-python.tar.gz\"\n",
    "#             file = \"cifar-100-python.tar.gz\"\n",
    "#             req = requests.get(url, stream=True)\n",
    "#             open(file, \"wb\").write(req.content)\n",
    "#             tarfile.open(file, \"r:gz\").extractall(filter=\"fully_trusted\")\n",
    "#             os.chdir(CWD)\n",
    "\n",
    "#         with open(ROOT/Path(\"cifar-100-python/meta\"), \"rb\") as f:\n",
    "#             meta = pickle.load(f)\n",
    "#             self.all_labels = tuple(meta[\"fine_label_names\"])\n",
    "\n",
    "#         with open(f\"./data/cifar-100-python/{\"train\" if train else \"test\"}\", \"rb\") as f:\n",
    "#             dataset = pickle.load(f, encoding=\"bytes\")\n",
    "#             self.labels = dataset[b'fine_labels']\n",
    "#             self.images = []\n",
    "#             for i in dataset[b'data']:\n",
    "#                 img = np.zeros((32,32,3))\n",
    "#                 for j in range(3):\n",
    "#                     img[:,:,j] = np.array(i[j*1024 : (j+1)*1024]).reshape((32,32))\n",
    "#                 self.images.append(Image.fromarray(np.uint8(img)))\n",
    "\n",
    "#         if validate:\n",
    "#             self.images = self.images[:6969]\n",
    "#             self.labels = self.labels[:6969]\n",
    "\n",
    "\n",
    "#     def __len__(self):\n",
    "#         return len(self.labels)\n",
    "\n",
    "#     def __getitem__(self, idx):\n",
    "\n",
    "#         if self.transform:\n",
    "#             return self.transform(self.images[idx]), self.labels[idx]\n",
    "#         else:\n",
    "#             to_tensor = transforms.ToTensor()\n",
    "#             return to_tensor(self.images[idx]), self.labels[idx]"
   ]
  },
  {
   "cell_type": "code",
   "execution_count": null,
   "metadata": {
    "ExecuteTime": {
     "end_time": "2024-10-13T22:25:29.970583Z",
     "start_time": "2024-10-13T22:25:29.932620Z"
    },
    "id": "moTeDvS7vtFx"
   },
   "outputs": [],
   "source": [
    "def create_transforms(additional_transform=False):\n",
    "    '''\n",
    "    Creates the data transformations for the CIFAR-100 dataset.\n",
    "    Args:\n",
    "        additional_transform (bool): If True, apply additional transformations.\n",
    "\n",
    "    Returns:\n",
    "        torchvision.transforms.Compose: The data transformations for the dataset.\n",
    "    '''\n",
    "\n",
    "    if additional_transform is False:\n",
    "        transform = transforms.Compose([\n",
    "        transforms.ToTensor(),\n",
    "        transforms.Normalize((0.5, 0.5, 0.5), (0.5, 0.5, 0.5))\n",
    "        ])\n",
    "\n",
    "    # additional transformations for hyperparameter tuning\n",
    "    elif additional_transform is True:\n",
    "        transform = transforms.Compose([\n",
    "        transforms.ToTensor(),\n",
    "        transforms.RandomHorizontalFlip(),\n",
    "        transforms.RandomRotation(10),\n",
    "        transforms.RandomResizedCrop(32, scale=(0.8, 1.0)),\n",
    "        transforms.Normalize((0.5, 0.5, 0.5), (0.5, 0.5, 0.5))\n",
    "        ])\n",
    "    else:\n",
    "        raise ValueError(\"Invalid transformation type. Please choose 'original' or 'augmented'.\")\n",
    "\n",
    "    return transform\n",
    "\n"
   ]
  },
  {
   "cell_type": "code",
   "execution_count": null,
   "metadata": {
    "ExecuteTime": {
     "end_time": "2024-10-13T22:25:36.719096Z",
     "start_time": "2024-10-13T22:25:36.675384Z"
    },
    "id": "6lO_9TSnvtFx"
   },
   "outputs": [],
   "source": [
    "def create_optimizer(model, learning_rate=0.001, weight_decay=1.0, optimizer='adam'):\n",
    "    '''\n",
    "    Creates an optimizer for the model.\n",
    "\n",
    "    Args:\n",
    "        model (torch.nn.Module): The neural network model.\n",
    "        learning_rate (float): The learning rate for the optimizer.\n",
    "        weight_decay (float): The L2 regularization strength.\n",
    "        optimizer (str): The optimizer to use.\n",
    "\n",
    "    Returns:\n",
    "        torch.optim.Adam: The optimizer for the model.\n",
    "    '''\n",
    "\n",
    "    # YOUR CODE HERE\n",
    "    # Adam optimiser with L2 regularisation\n",
    "    if optimizer == \"adam\":\n",
    "        opt = torch.optim.AdamW(model.parameters(), lr=learning_rate, weight_decay=weight_decay, betas=(0.9, 0.999))\n",
    "\n",
    "    # additional optimizers for hyperparameter tuning\n",
    "    elif optimizer == \"sgd\":\n",
    "        opt = torch.optim.SGD(model.parameters(), lr=0.1, momentum=0.9, weight_decay=5e-4, nesterov=True)\n",
    "    elif optimizer == \"rmsprop\":\n",
    "        opt = torch.optim.RMSprop(model.parameters(), lr=1e-3, alpha=0.99, eps=1e-8, weight_decay=1e-5)\n",
    "    else:\n",
    "        raise ValueError(\"Invalid optimizer. Please choose 'adam', 'sgd', or 'rmsprop'\")\n",
    "\n",
    "    return opt"
   ]
  },
  {
   "cell_type": "markdown",
   "metadata": {
    "id": "nFISOKDOvtFx"
   },
   "source": [
    "<a id=\"section-6\"></a>\n",
    "### **Section 6: Training the Networks (5 points)**\n",
    "\n",
    "In this section, you will complete the `train` function and use it to train both the `TwoLayerNet` and `ConvNet` models. You will use the custom `CIFAR100_loader`, transform function, and optimizer function that you implemented. The goal is to compare the performance of the two models on the CIFAR-100 dataset."
   ]
  },
  {
   "cell_type": "code",
   "execution_count": 12,
   "metadata": {
    "ExecuteTime": {
     "end_time": "2024-10-13T22:25:42.066597Z",
     "start_time": "2024-10-13T22:25:42.031330Z"
    },
    "id": "0rrY-WlBvtFy"
   },
   "outputs": [],
   "source": [
    "def validate(net, testloader):\n",
    "    '''\n",
    "    Validates the model on the test dataset.\n",
    "\n",
    "    Args:\n",
    "        net (torch.nn.Module): The neural network model.\n",
    "        testloader (torch.utils.data.DataLoader): The data loader for the test dataset.\n",
    "\n",
    "    Returns:\n",
    "        test_results (dict): Dictionary with the accuracy, precision, recall, and f1 scores for the model.\n",
    "    '''\n",
    "\n",
    "    # Set the model to evaluation mode\n",
    "    net.eval()\n",
    "\n",
    "    # Determine the device to run the model on\n",
    "    device = torch.device(\"cuda\" if torch.cuda.is_available() else \"cpu\")\n",
    "    net = net.to(device)\n",
    "\n",
    "    correct, total = 0, 0\n",
    "    y_true, y_pred = [], []\n",
    "    test_results = {}\n",
    "\n",
    "    # Disable gradient computation\n",
    "    with torch.no_grad():\n",
    "\n",
    "        # Iterate over the test dataset\n",
    "        for inputs, labels in testloader:\n",
    "\n",
    "            # move data to device\n",
    "            inputs, labels = inputs.to(device), labels.to(device)\n",
    "\n",
    "            # pass inputs to model\n",
    "            outputs = net(inputs)\n",
    "\n",
    "            # get predicted class\n",
    "            _, predicted = torch.max(outputs, 1)\n",
    "\n",
    "            # sum correct predictions & total predictions\n",
    "            total += labels.size(0)\n",
    "            correct += (predicted == labels).sum().item()\n",
    "\n",
    "            y_true += labels.tolist()\n",
    "            y_pred += predicted.tolist()\n",
    "\n",
    "    # calculate metrics\n",
    "    accuracy = metrics.accuracy_score(y_true, y_pred)\n",
    "    precision = metrics.precision_score(y_true, y_pred, average='weighted', zero_division=0.0)\n",
    "    recall = metrics.recall_score(y_true, y_pred, average='weighted')\n",
    "    f1 = metrics.f1_score(y_true, y_pred, average='weighted')\n",
    "\n",
    "    test_results['accuracy'] = accuracy\n",
    "    test_results['precision'] = precision\n",
    "    test_results['recall'] = recall\n",
    "    test_results['f1'] = f1\n",
    "\n",
    "    return test_results"
   ]
  },
  {
   "cell_type": "code",
   "execution_count": 13,
   "metadata": {
    "ExecuteTime": {
     "end_time": "2024-10-13T22:25:51.154688Z",
     "start_time": "2024-10-13T22:25:51.118495Z"
    },
    "id": "dC8Ha1D9vtFy"
   },
   "outputs": [],
   "source": [
    "def validate_per_class(net, testloader, classes):\n",
    "    '''\n",
    "    Validates the model on the test dataset per class.\n",
    "\n",
    "    Args:\n",
    "        net (torch.nn.Module): The neural network model.\n",
    "        testloader (torch.utils.data.DataLoader): The data loader for the test dataset.\n",
    "        classes (tuple): The tuple of class names.\n",
    "\n",
    "    Returns:\n",
    "        class_accuracy (dictionary): The accuracy per class for the model.\n",
    "    '''\n",
    "\n",
    "    # Set the model to evaluation mode\n",
    "    net.eval()\n",
    "\n",
    "    # Determine the device to run the model on\n",
    "    device = torch.device(\"cuda\" if torch.cuda.is_available() else \"cpu\")\n",
    "    net = net.to(device)\n",
    "\n",
    "    class_correct = [0. for _ in range(len(classes))]\n",
    "    class_total = [0. for _ in range(len(classes))]\n",
    "\n",
    "    class_accuracy = {}\n",
    "\n",
    "    # Disable gradient computation\n",
    "    with torch.no_grad():\n",
    "\n",
    "        # Iterate over the test dataset\n",
    "        for inputs, labels in tqdm(testloader):\n",
    "            inputs, labels = inputs.to(device), labels.to(device)\n",
    "            outputs = net(inputs)\n",
    "            _, predicted = torch.max(outputs, 1)\n",
    "            correct_predictions = (predicted == labels).squeeze()\n",
    "\n",
    "            for i in range(len(labels)):\n",
    "                label = labels[i]\n",
    "                class_correct[label] += correct_predictions[i].item()\n",
    "                class_total[label] += 1\n",
    "\n",
    "    for i, class_name in enumerate(classes):\n",
    "        accuracy = 100 * class_correct[i] / class_total[i] if class_total[i] > 0 else 0\n",
    "        class_accuracy[class_name] = accuracy\n",
    "\n",
    "    return class_accuracy"
   ]
  },
  {
   "cell_type": "code",
   "execution_count": 9,
   "metadata": {
    "ExecuteTime": {
     "end_time": "2024-10-13T22:25:55.043680Z",
     "start_time": "2024-10-13T22:25:55.007697Z"
    },
    "id": "WxmipsKMvtFy"
   },
   "outputs": [],
   "source": [
    "def train(net, train_loader, test_loader, criterion, optimizer, epochs=100):\n",
    "    '''\n",
    "    Trains the neural network model.\n",
    "\n",
    "    Args:\n",
    "        net (torch.nn.Module): The neural network model.\n",
    "        train_loader (torch.utils.data.DataLoader): The data loader for the training dataset.\n",
    "        test_loader (torch.utils.data.DataLoader): The data loader for the test dataset.\n",
    "        criterion (torch.nn.Module): The loss function.\n",
    "        optimizer (torch.optim.Optimizer): The optimizer for the model.\n",
    "        epochs (int): The number of epochs to train the model.\n",
    "\n",
    "    Returns:\n",
    "        epoch_performances (list): Performance of the model for each epoch. For plotting.\n",
    "        epoch_losses (list): Loss for each epoch. For plotting.\n",
    "    '''\n",
    "\n",
    "    # YOUR CODE HERE\n",
    "    # Set the model to train mode\n",
    "    net.train()\n",
    "\n",
    "    # Determine the device to run the model on\n",
    "    device = torch.device(\"cuda\" if torch.cuda.is_available() else \"cpu\")\n",
    "    net = net.to(device)\n",
    "\n",
    "    epoch_performances = []\n",
    "    epoch_performances_train = []\n",
    "    epoch_losses = []\n",
    "\n",
    "    for epoch in tqdm(range(epochs)):\n",
    "        epoch_loss = 0.0\n",
    "        # Iterate over the train dataset\n",
    "        for inputs, labels in train_loader:\n",
    "            \n",
    "            optimizer.zero_grad()\n",
    "            inputs, labels = inputs.to(device), labels.to(device).long()\n",
    "            outputs = net(inputs)\n",
    "            loss = criterion(outputs, labels)\n",
    "            loss.backward()\n",
    "            optimizer.step()\n",
    "\n",
    "            epoch_loss += loss.item()\n",
    "\n",
    "        epoch_loss /= len(train_loader) # average over the batch\n",
    "        epoch_losses.append(epoch_loss)\n",
    "\n",
    "        epoch_performances.append(validate(net, test_loader))\n",
    "        epoch_performances_train.append(validate(net, train_loader))\n",
    "\n",
    "        if type(train_loader)==list:\n",
    "            random.shuffle(train_loader)\n",
    "\n",
    "    return epoch_performances, epoch_losses\n"
   ]
  },
  {
   "cell_type": "code",
   "execution_count": null,
   "metadata": {
    "id": "vBqErvFgDnNk"
   },
   "outputs": [],
   "source": [
    "def plot_epoch_performances(epoch_performances, model_name, metric=\"accuracy\"):\n",
    "    '''\n",
    "    Plots the performance of the model for each epoch.\n",
    "\n",
    "    Args:\n",
    "        epoch_performances (list): List of dictionaries of the performance of the model for each epoch (accuracy, precision, recall, f1).\n",
    "        metric (str): The metric to plot.\n",
    "    '''\n",
    "    print(\"metric: \", metric)\n",
    "    # list of values from 0 to number of epochs\n",
    "    epoch = [i for i in range(len(epoch_performances))]\n",
    "    print(\"epoch length: \", len(epoch_performances))\n",
    "\n",
    "    if metric == \"loss\":\n",
    "      print(\"hello world\")\n",
    "      y = epoch_performances\n",
    "\n",
    "    else:\n",
    "      # get list of metric values for each epoch from ditionary\n",
    "      y = [epoch_performances[i][metric] for i in range(len(epoch_performances))]\n",
    "\n",
    "    plt.title(f\"Test {metric} over training epochs for model {model_name}\")\n",
    "    plt.xlabel(\"Epoch\")\n",
    "    plt.ylabel(f\"{metric}\")\n",
    "    plt.plot(epoch, y)\n",
    "    plt.show()"
   ]
  },
  {
   "cell_type": "markdown",
   "metadata": {
    "collapsed": false,
    "id": "m_ti6C5kvtFz",
    "jupyter": {
     "outputs_hidden": false
    }
   },
   "source": [
    "First, initialize the datasets and data loaders for both models."
   ]
  },
  {
   "cell_type": "code",
   "execution_count": null,
   "metadata": {
    "ExecuteTime": {
     "end_time": "2024-10-13T22:26:02.723046Z",
     "start_time": "2024-10-13T22:26:02.680909Z"
    },
    "id": "9yKtf1aNvtFz"
   },
   "outputs": [],
   "source": [
    "# YOUR CODE HERE\n",
    "\n",
    "def create_dataloaders(additional_transform=True, batch_size=512, use_cache=False, dataset='CIFAR100'):\n",
    "    '''\n",
    "    Create the data loaders for the CIFAR 100 dataset\n",
    "\n",
    "    Args:\n",
    "      additional_transform (bool): whether to use additional transformations\n",
    "      batch_size (int): the batch size for the data loaders\n",
    "      use_cache (bool): whether to use the cache for speeding up process\n",
    "\n",
    "    Returns:\n",
    "        train_data_loader (torch.utils.data.DataLoader): Data loader for the training dataset\n",
    "        test_data_loader (torch.utils.data.DataLoader): Data loader for the test dataset\n",
    "    '''\n",
    "\n",
    "\n",
    "    # Define the transformations\n",
    "    transform = create_transforms(additional_transform=additional_transform)\n",
    "\n",
    "    # Load the training set\n",
    "    if dataset == 'CIFAR100':\n",
    "        train_set = CIFAR100_loader(root='./data', train=True, download=True, transform=transform)\n",
    "    elif dataset == 'STL10':\n",
    "        train_set = STL10_loader(root='./data', train=True, download=True, transform=transform)\n",
    "    else:\n",
    "        print('Invalid dataset choice')\n",
    "\n",
    "    # Load the test set\n",
    "    if dataset == 'CIFAR100':\n",
    "        test_set = CIFAR100_loader(root='./data', train=False, download=True, transform=transform)\n",
    "    elif dataset == 'STL10':\n",
    "        test_set = STL10_loader(root='./data', train=False, download=True, transform=transform)\n",
    "    else:\n",
    "        print('Invalid dataset choice')\n",
    "\n",
    "    # Create data loaders for the entire CIFAR-100 dataset\n",
    "    train_data_loader = DataLoader(train_set, shuffle=True, batch_size=batch_size, num_workers = 2, persistent_workers=True)\n",
    "    test_data_loader = DataLoader(test_set, shuffle=False, batch_size=batch_size, num_workers = 2, persistent_workers=True)\n",
    "\n",
    "    # for speeding up the data loading\n",
    "    if use_cache:\n",
    "      cache_train = []\n",
    "      print (\"warming up train loader\")\n",
    "      for idx, data in enumerate(tqdm(train_data_loader)):\n",
    "          cache_train.append(data)\n",
    "\n",
    "      cache_test = []\n",
    "      print (\"warming up test loader\")\n",
    "      for idx, data in enumerate(tqdm(test_data_loader)):\n",
    "          cache_test.append(data)\n",
    "      return cache_train, cache_test\n",
    "\n",
    "    else:\n",
    "      return train_data_loader, test_data_loader\n",
    "\n"
   ]
  },
  {
   "cell_type": "markdown",
   "metadata": {
    "collapsed": false,
    "id": "xqxyGEVdvtFz",
    "jupyter": {
     "outputs_hidden": false
    }
   },
   "source": [
    "Next, train the TwoLayerNet model on the CIFAR-100 dataset using the training data loader."
   ]
  },
  {
   "cell_type": "code",
   "execution_count": null,
   "metadata": {
    "colab": {
     "base_uri": "https://localhost:8080/"
    },
    "id": "X3dvDhWavtFz",
    "outputId": "34b54cec-da24-405c-88e3-0a04b151316f"
   },
   "outputs": [],
   "source": [
    "train_data_loader, test_data_loader = create_dataloaders(use_cache=True)"
   ]
  },
  {
   "cell_type": "code",
   "execution_count": null,
   "metadata": {
    "ExecuteTime": {
     "start_time": "2024-10-12T13:23:05.268062Z"
    },
    "colab": {
     "base_uri": "https://localhost:8080/",
     "height": 1000
    },
    "id": "l0lIsWZVvtFz",
    "outputId": "b2c5f0de-00fd-404f-bf4d-c931cec6679b"
   },
   "outputs": [],
   "source": [
    "# YOUR CODE HERE\n",
    "epochs = 100\n",
    "learning_rate=0.001\n",
    "\n",
    "mlp = TwoLayerNet(32 * 32 * 3, 1024, 100)\n",
    "criterion = nn.CrossEntropyLoss()\n",
    "optimizer_mlp = create_optimizer(mlp, learning_rate)\n",
    "\n",
    "mlp_epoch_performances, mlp_epoch_losses = train(mlp, train_data_loader, test_data_loader, criterion, optimizer_mlp, epochs)\n",
    "plot_epoch_performances(mlp_epoch_performances, model_name=\"MLP\")\n",
    "plot_epoch_performances(mlp_epoch_losses, model_name=\"MLP\", metric=\"loss\")\n",
    "\n",
    "test_mlp = validate(mlp, test_data_loader)\n",
    "print(\"MLP test accuracy: \", test_mlp)\n",
    "\n",
    "test_mlp_per_class = validate_per_class(mlp, test_data_loader, classes)\n",
    "print(\"Test Accuracy MLP per class: \", test_mlp_per_class)"
   ]
  },
  {
   "cell_type": "markdown",
   "metadata": {
    "collapsed": false,
    "id": "NDtTXa5ZvtF0",
    "jupyter": {
     "outputs_hidden": false
    }
   },
   "source": [
    "Finally, train the ConvNet model on the CIFAR-100 dataset using the training data loader."
   ]
  },
  {
   "cell_type": "code",
   "execution_count": null,
   "metadata": {
    "ExecuteTime": {
     "end_time": "2024-10-13T17:12:20.387042Z",
     "start_time": "2024-10-13T16:51:05.690681Z"
    },
    "colab": {
     "base_uri": "https://localhost:8080/",
     "height": 1000
    },
    "id": "LViQyvlWvtF0",
    "outputId": "537f7c10-48ae-4024-b7c4-99b644f72d44"
   },
   "outputs": [],
   "source": [
    "# YOUR CODE HERE\n",
    "epochs = 100\n",
    "learning_rate=0.001\n",
    "\n",
    "conv_net = ConvNet()\n",
    "criterion = nn.CrossEntropyLoss()\n",
    "optimizer_cnn = create_optimizer(conv_net, learning_rate)\n",
    "\n",
    "cnn_epoch_performances, cnn_epoch_losses = train(conv_net, train_data_loader, test_data_loader, criterion, optimizer_cnn, epochs)\n",
    "plot_epoch_performances(cnn_epoch_performances, model_name=\"CNN\")\n",
    "plot_epoch_performances(cnn_epoch_losses, model_name=\"CNN\", metric=\"loss\")\n",
    "\n",
    "test_accuracy_cnn = validate(conv_net, test_data_loader)\n",
    "test_accuracy_cnn_per_class = validate_per_class(conv_net, test_data_loader, classes)\n",
    "\n",
    "print(\"CNN test accuracy: \", test_accuracy_cnn)\n",
    "print(\"Test Accuracy CNN per class: \", test_accuracy_cnn_per_class)"
   ]
  },
  {
   "cell_type": "markdown",
   "metadata": {
    "collapsed": false,
    "id": "sGN_OrlvvtF0",
    "jupyter": {
     "outputs_hidden": false
    }
   },
   "source": [
    "<a id=\"section-7\"></a>\n",
    "### **Section 7: Setting Up the Hyperparameters (14 points)**\n",
    "\n",
    "In this section, you will experiment with both the `ConvNet` and `TwoLayerNet` models by setting up and tuning the hyperparameters to achieve the highest possible accuracy. You have the flexibility to modify the training process, including the `train` function, `DataLoader`, `transform` functions, and optimizer as needed.\n",
    "\n",
    "1. Adjust the hyperparameters, including learning rate, batch size, number of epochs, optimizer, weight decay, and transform function to improve the performance of both networks. Modify the training procedure and architecture as necessary. You can also add components like Batch Normalization layers.\n",
    "2. Add two more layers to both `TwoLayerNet` and `ConvNet`. You can decide the size and placement of these layers. Evaluate if these changes result in higher performance and explain your findings.\n",
    "3. Show the final results and describe the modifications made to enhance performance. Discuss the impact of hyperparameter tuning on both `TwoLayerNet` and `ConvNet`.\n",
    "4. Compare the two networks in terms of architecture, performance, and learning rates. Provide a detailed explanation of the differences observed.\n",
    "\n",
    "**Note:** Do not use external pre-trained networks and limit additional convolutional layers to a maximum of three beyond the original architecture."
   ]
  },
  {
   "cell_type": "markdown",
   "metadata": {
    "id": "q9hhrKQRvtF0"
   },
   "source": [
    "Test the performance of TwoLayerNet after hyperparameter tuning and compare it with the ConvNet model. Provide a detailed explanation of the results."
   ]
  },
  {
   "cell_type": "code",
   "execution_count": null,
   "metadata": {
    "ExecuteTime": {
     "end_time": "2024-10-14T00:21:38.037227Z",
     "start_time": "2024-10-14T00:21:38.022264Z"
    },
    "id": "vhhyy-CRvtF0"
   },
   "outputs": [],
   "source": [
    "def sweep(train_data_loader, test_data_loader, learning_rate=0.001, batch_size=512, epochs=100, optimizer='adam', weight_decay=1.0, nonlinear_fn=None, transformations=False, model='cnn', chkpt=None, extra_layers=False):\n",
    "    '''\n",
    "    Sweeps hyperparameters for hyperparameter tuning\n",
    "\n",
    "    Args:\n",
    "        train_data_loader (torch.utils.data.DataLoader): The data loader for the training dataset.\n",
    "        test_data_loader (torch.utils.data.DataLoader): The data loader for the test dataset.\n",
    "        learning_rate (float): The learning rate to test.\n",
    "        batch_size (int): The batch size to test.\n",
    "        epochs (int): The number of epochs to test.\n",
    "        optimizer (str): The optimizer to test.\n",
    "        weight_decay (float): The weight decay to test.\n",
    "        nonlinear_fn (str): The non-linear function to test for the CNN model.\n",
    "        transformations (bool): The data transformations to test.\n",
    "        model (str): The model (CNN or MLP).\n",
    "        chkpt (torch.nn.Module): Checkpoint of the model if it already exists for fast loading.\n",
    "        extra_layers (bool): For testing architecture of the model with additional layers.\n",
    "\n",
    "    Returns:\n",
    "        results (dict): A dict of 2 dictionaries containing the test metrics and accuracy per class\n",
    "        model (torch.nn.Module): The model to save.\n",
    "    '''\n",
    "\n",
    "    # original hyperparameters\n",
    "    # lr = 0.001, batch_size = 512, epochs = 100, optimizer = AdamW, weight_decay = 1, nonlinear_fn = sigmoid/tanh, layers = original, transformations = original\n",
    "\n",
    "    # if the model checkpoint doesn't exist instantiate the network & train as usual\n",
    "    if chkpt is None:\n",
    "        if model == \"mlp\":\n",
    "            net = TwoLayerNet(input_size=32 * 32 * 3, hidden_size=1024, num_classes=100, extra_layers=extra_layers)\n",
    "        elif model == \"cnn\":\n",
    "            net = ConvNet(non_linear=nonlinear_fn, extra_layers=extra_layers)\n",
    "        else:\n",
    "            raise ValueError(\"Invalid model. Please choose 'mlp' or 'cnn'\")\n",
    "\n",
    "        criterion = nn.CrossEntropyLoss()\n",
    "        opt = create_optimizer(net, learning_rate=learning_rate, weight_decay=weight_decay, optimizer=optimizer)\n",
    "        train(net=net, train_loader=train_data_loader, test_loader=test_data_loader, criterion=criterion, optimizer=opt, epochs=epochs)\n",
    "\n",
    "    # if model checkpoint exists, use checkpoing\n",
    "    elif chkpt is not None:\n",
    "        net = chkpt\n",
    "\n",
    "    else:\n",
    "        raise ValueError(\"Invalid checkpoint. Please provide a valid checkpoint.\")\n",
    "\n",
    "    # validate test accuracy for the model & per class\n",
    "    test_accuracy = validate(net, test_data_loader)\n",
    "    test_accuracy_per_class = validate_per_class(net, test_data_loader, classes)\n",
    "\n",
    "    results = {\"metrics\": test_accuracy, \"class accuracies\": test_accuracy_per_class}\n",
    "\n",
    "    return results, net\n",
    "\n",
    "    # YOUR CODE HERE"
   ]
  },
  {
   "cell_type": "code",
   "execution_count": null,
   "metadata": {
    "ExecuteTime": {
     "end_time": "2024-10-13T22:43:48.015519Z",
     "start_time": "2024-10-13T22:43:47.972859Z"
    },
    "id": "0UN4irgzvtF2"
   },
   "outputs": [],
   "source": [
    "def read_sweep_results(results_file):\n",
    "\n",
    "    \"\"\"\n",
    "    Read the sweep results from the JSON file in case of a crash or for easy loading.\n",
    "\n",
    "    Args:\n",
    "        results_file (str): Path to the JSON file containing the results.\n",
    "\n",
    "    Returns:\n",
    "        dict: A dictionary containing the hyperparameter sweep results.\n",
    "\n",
    "    \"\"\"\n",
    "\n",
    "    if os.path.exists(results_file):\n",
    "        with open(results_file, \"r\") as f:\n",
    "            return json.load(f)\n",
    "    return {}"
   ]
  },
  {
   "cell_type": "code",
   "execution_count": null,
   "metadata": {
    "ExecuteTime": {
     "end_time": "2024-10-14T00:51:12.745666Z",
     "start_time": "2024-10-14T00:51:12.588074Z"
    },
    "id": "i6bMGjoyvtF7"
   },
   "outputs": [],
   "source": [
    "def run_sweep(train_data_loader, test_data_loader, hyperparameter_name, hyperparameter_values, sweep_results, m, save_path=\"model_chkpts\", results_file=\"sweep_results.json\"):\n",
    "    \"\"\"\n",
    "    Run sweeps for different hyperparameters, save model checkpoints, and write results to disk.\n",
    "\n",
    "    Args:\n",
    "        train_data_loader (torch.utils.data.DataLoader): The data loader for the training dataset.\n",
    "        test_data_loader (torch.utils.data.DataLoader): The data loader for the test dataset.\n",
    "        hyperparameter_name (str): Name of the hyperparameter to be tested (e.g. 'learning_rate', 'batch_size').\n",
    "        hyperparameter_values (list): A list of test values for the hyperparameter.\n",
    "        sweep_results (dict): Global dictionary for storing sweep results.\n",
    "        m (str): Model name ('mlp' or 'cnn').\n",
    "        save_path (str): Directory path where model checkpoints will be saved.\n",
    "        results_file (str): Path to the JSON file where sweep results will be saved.\n",
    "\n",
    "    Returns:\n",
    "        None\n",
    "    \"\"\"\n",
    "\n",
    "    # make sure the save path directory actually exists\n",
    "    os.makedirs(save_path, exist_ok=True)\n",
    "\n",
    "    if hyperparameter_name != \"extra_layers\":\n",
    "        extra_layer = False\n",
    "    elif hyperparameter_name == \"extra_layers\":\n",
    "        extra_layer = hyperparameter_values[0]\n",
    "\n",
    "    for value in hyperparameter_values:\n",
    "        print(\"Running sweep for: \", hyperparameter_name, value)\n",
    "\n",
    "        # Define the model filename based on hyperparameter value\n",
    "        model_filename = f\"{m}_model_{hyperparameter_name}_{value}.pt\"\n",
    "        model_filepath = os.path.join(save_path, model_filename)\n",
    "\n",
    "        # Check if the model checkpoint already exists\n",
    "        if os.path.exists(model_filepath):\n",
    "            print(f\"Loading existing model from: {model_filepath}\")\n",
    "\n",
    "            # instantiate a network\n",
    "            if m == \"cnn\":\n",
    "                model = ConvNet(extra_layers=extra_layer)\n",
    "            elif m == \"mlp\":\n",
    "                model = TwoLayerNet(32 * 32 * 3, 1024, 100, extra_layers=extra_layer)\n",
    "            else:\n",
    "                raise ValueError(\"Invalid model. Please choose 'mlp' or 'cnn'\")\n",
    "\n",
    "            # load the checkpoint weights onto the model\n",
    "            model.load_state_dict(torch.load(model_filepath, weights_only=True))\n",
    "\n",
    "            # pass hyperparameter testing values to the sweep function\n",
    "            kwargs = {'train_data_loader': train_data_loader, 'test_data_loader': test_data_loader, hyperparameter_name: value, 'model': m, 'chkpt': model}\n",
    "            results, model = sweep(**kwargs)\n",
    "\n",
    "            if hyperparameter_name not in sweep_results:\n",
    "                sweep_results[hyperparameter_name] = {}\n",
    "\n",
    "            sweep_results[hyperparameter_name][value] = results\n",
    "\n",
    "            print(\"Results retrieved for: \", hyperparameter_name, value)\n",
    "\n",
    "        else:\n",
    "            # run the sweep for the current hyperparameter value\n",
    "            # ex. sweep(learning_rate=0.01)\n",
    "            kwargs = {'train_data_loader': train_data_loader, 'test_data_loader': test_data_loader, hyperparameter_name: value, 'model': m}\n",
    "            results, model = sweep(**kwargs)\n",
    "\n",
    "            # store the results for the current hyperparameter value\n",
    "            if hyperparameter_name not in sweep_results:\n",
    "                sweep_results[hyperparameter_name] = {}\n",
    "            sweep_results[hyperparameter_name][value] = results\n",
    "\n",
    "            # save the model checkpoint in case of a crash\n",
    "            torch.save(model.state_dict(), model_filepath)\n",
    "\n",
    "            # save the sweep results to a JSON file in case of a crash\n",
    "            with open(f\"{m}_{results_file}\", \"w\") as f:\n",
    "                json.dump(sweep_results, f)\n",
    "\n",
    "            print(\"Results saved for: \", hyperparameter_name, value)"
   ]
  },
  {
   "cell_type": "markdown",
   "metadata": {
    "collapsed": false,
    "id": "HDydoSL1vtF1",
    "jupyter": {
     "outputs_hidden": false
    }
   },
   "source": [
    "Test the performance of ConvNet after hyperparameter tuning and compare it with the TwoLayerNet model. Provide a detailed explanation of the results."
   ]
  },
  {
   "cell_type": "code",
   "execution_count": null,
   "metadata": {
    "ExecuteTime": {
     "end_time": "2024-10-14T00:21:44.722826Z",
     "start_time": "2024-10-14T00:21:44.678172Z"
    },
    "id": "1O5sf2v6vtF1"
   },
   "outputs": [],
   "source": [
    "cnn_sweep_results = {'original': {}, 'learning_rate': {}, 'batch_size': {}, 'epochs': {}, 'optimizer': {}, 'weight_decay': {}, 'nonlinear_fn': {}, 'layers': {}, 'transformations': {}}\n",
    "mlp_sweep_results = {'original': {}, 'learning_rate': {}, 'batch_size': {}, 'epochs': {}, 'optimizer': {}, 'weight_decay': {}, 'nonlinear_fn': {}, 'layers': {}, 'transformations': {}}"
   ]
  },
  {
   "cell_type": "code",
   "execution_count": null,
   "metadata": {
    "colab": {
     "base_uri": "https://localhost:8080/"
    },
    "id": "jrG1ZYdhBbeN",
    "outputId": "a5666fdd-5638-48fd-9734-f00c171d8307"
   },
   "outputs": [],
   "source": [
    "torch.cuda.empty_cache()\n",
    "# create train & test data loaders once\n",
    "train_data_loader, test_data_loader = create_dataloaders(use_cache=True)"
   ]
  },
  {
   "cell_type": "code",
   "execution_count": null,
   "metadata": {
    "colab": {
     "base_uri": "https://localhost:8080/"
    },
    "id": "A2R_gs0p0H0E",
    "outputId": "df14a85c-0623-4d64-aa81-5ca645d6a4e6"
   },
   "outputs": [],
   "source": [
    "# mlp baseline vals with original hyperparams\n",
    "results, model = sweep(train_data_loader, test_data_loader)\n",
    "os.makedirs(\"model_chkpts/\", exist_ok=True)\n",
    "torch.save(model.state_dict(), f\"model_chkpts/mlp_model_original.pt\")\n",
    "mlp_sweep_results['original'] = results\n",
    "\n",
    "with open(\"mlp_sweep_results.json\", \"w\") as f:\n",
    "    json.dump(mlp_sweep_results, f)"
   ]
  },
  {
   "cell_type": "code",
   "execution_count": null,
   "metadata": {
    "ExecuteTime": {
     "end_time": "2024-10-14T00:45:05.888271Z",
     "start_time": "2024-10-14T00:21:46.035430Z"
    },
    "colab": {
     "base_uri": "https://localhost:8080/"
    },
    "id": "cYNoumbQvtF1",
    "outputId": "824ddaaf-b0b6-48ba-941a-9305c18192fa"
   },
   "outputs": [],
   "source": [
    "# cnn baseline vals with original hyperparams\n",
    "results, model = sweep(train_data_loader, test_data_loader)\n",
    "torch.save(model.state_dict(), f\"model_chkpts/cnn_model_original.pt\")\n",
    "cnn_sweep_results['original'] = results\n",
    "\n",
    "with open(\"cnn_sweep_results.json\", \"w\") as f:\n",
    "    json.dump(cnn_sweep_results, f)\n"
   ]
  },
  {
   "cell_type": "code",
   "execution_count": null,
   "metadata": {
    "id": "aOh2RbtaNqrW"
   },
   "outputs": [],
   "source": [
    "# lists of hyperparameters for tuning\n",
    "cnn_hyperparam_names = [\"learning_rate\", \"batch_size\", \"epochs\", \"optimizer\", \"weight_decay\", \"nonlinear_fn\", \"transformations\", \"extra_layers\"]\n",
    "mlp_hyperparam_names = [\"learning_rate\", \"batch_size\", \"epochs\", \"optimizer\", \"weight_decay\", \"transformations\", \"extra_layers\"]\n",
    "\n",
    "learning_rates = [0.0001, 0.01]\n",
    "batch_sizes = [32, 64, 128, 256, 1024]\n",
    "epochs = [10, 50, 200, 500]\n",
    "optimizers = ['sgd', 'rmsprop']\n",
    "weight_decays = [0.8, 0.6, 0.4, 0.2, 0.1, 0.01]\n",
    "nonlinear_fns = [\"relu\"]\n",
    "transformations = [True]\n",
    "layers = [True]\n",
    "\n",
    "cnn_hyperparams = [learning_rates, batch_sizes, epochs, optimizers, weight_decays, nonlinear_fns, transformations, layers]\n",
    "mlp_hyperparams = [learning_rates, batch_sizes, epochs, optimizers, weight_decays, transformations, layers]"
   ]
  },
  {
   "cell_type": "code",
   "execution_count": null,
   "metadata": {
    "colab": {
     "base_uri": "https://localhost:8080/"
    },
    "id": "CHk5hj184Ans",
    "outputId": "ca67d70d-38ba-47f3-aba5-4d48018a8411"
   },
   "outputs": [],
   "source": [
    "# Tune MLP\n",
    "m = \"mlp\"\n",
    "\n",
    "# Run sweeps\n",
    "for i in tqdm(range(len(mlp_hyperparam_names))):\n",
    "    run_sweep(train_data_loader, test_data_loader, mlp_hyperparam_names[i], mlp_hyperparams[i], mlp_sweep_results, m)"
   ]
  },
  {
   "cell_type": "code",
   "execution_count": null,
   "metadata": {
    "ExecuteTime": {
     "end_time": "2024-10-14T07:46:06.485439Z",
     "start_time": "2024-10-14T00:51:45.728966Z"
    },
    "colab": {
     "base_uri": "https://localhost:8080/"
    },
    "id": "LnHdXxOyvtF8",
    "outputId": "91a08a7f-639f-4d51-ba80-aa8019ab73d8"
   },
   "outputs": [],
   "source": [
    "# Tune CNN\n",
    "m = \"cnn\"\n",
    "\n",
    "# Run sweeps\n",
    "for i in tqdm(range(len(cnn_hyperparam_names))):\n",
    "    run_sweep(train_data_loader, test_data_loader, cnn_hyperparam_names[i], cnn_hyperparams[i], cnn_sweep_results, m)"
   ]
  },
  {
   "cell_type": "code",
   "execution_count": null,
   "metadata": {
    "colab": {
     "base_uri": "https://localhost:8080/"
    },
    "id": "UiYV8b2E6QMH",
    "outputId": "c5857ded-b680-4343-b7e2-71804b303061"
   },
   "outputs": [],
   "source": [
    "def json_to_dict(json_file):\n",
    "    \"\"\"\n",
    "    Loads a JSON file to dictionary (to use in case of crash or sweep dictionary is lost from memory)\n",
    "\n",
    "    Args:\n",
    "        json_file (str): Path to the JSON file.\n",
    "\n",
    "    Returns:\n",
    "        dict: The contents of the JSON file as a dictionary.\n",
    "    \"\"\"\n",
    "    with open(json_file, 'r') as f:\n",
    "        data = json.load(f)\n",
    "\n",
    "    return data\n",
    "\n",
    "cnn_sweep_results = json_to_dict(\"cnn_sweep_results.json\")\n",
    "mlp_sweep_results = json_to_dict(\"mlp_sweep_results.json\")\n",
    "print(cnn_sweep_results)\n",
    "print(mlp_sweep_results)"
   ]
  },
  {
   "cell_type": "code",
   "execution_count": null,
   "metadata": {
    "colab": {
     "base_uri": "https://localhost:8080/",
     "height": 1000
    },
    "id": "b6MKJ6ds5LWV",
    "outputId": "e82fe0d9-f95a-4286-f292-a9c746b0d287"
   },
   "outputs": [],
   "source": [
    "# Analyze CNN tuning\n",
    "\n",
    "def plot_hyperparameter_comparison(sweep_results, model, metric=\"accuracy\"):\n",
    "    \"\"\"\n",
    "    Plot the hyperparameter tuning vs baseline metrics\n",
    "\n",
    "    Args:\n",
    "        sweep_results (dict): Dictionary containing the sweep results.\n",
    "        model (str): The model name (e.g., \"mlp\", \"cnn\").\n",
    "        metric (str): The metric to compare (e.g., \"accuracy\", \"precision\", etc.).\n",
    "\n",
    "    Returns:\n",
    "        None\n",
    "    \"\"\"\n",
    "    # Extract baseline metrics\n",
    "    baseline_metrics = sweep_results[\"original\"][\"metrics\"]\n",
    "    baseline_value = baseline_metrics.get(metric, None)\n",
    "\n",
    "    # Prepare data for plotting\n",
    "    hyperparameters = []\n",
    "    values = []\n",
    "    baseline = []\n",
    "\n",
    "    for hyperparam, results in sweep_results.items():\n",
    "        # skip baseline\n",
    "        if hyperparam == \"original\":\n",
    "            continue\n",
    "\n",
    "        for param_value, result in results.items():\n",
    "            hyperparameters.append(f\"{hyperparam}={param_value}\")\n",
    "            values.append(result[\"metrics\"].get(metric, None))\n",
    "            baseline.append(baseline_value)\n",
    "\n",
    "    # Plot\n",
    "    plt.figure(figsize=(10, 6))\n",
    "\n",
    "    plt.plot(hyperparameters, values, label=\"Tuned results\", marker=\"o\", color=\"blue\")\n",
    "    plt.plot(hyperparameters, baseline, label=\"Baseline\", linestyle=\"--\", marker=\"x\", color=\"red\")\n",
    "\n",
    "    plt.xticks(rotation=45, ha=\"right\")\n",
    "    plt.xlabel(\"Hyperparameters\")\n",
    "    plt.ylabel(metric.capitalize())\n",
    "    plt.title(f\"Comparison of {metric.capitalize()} across Hyperparameters for {model}\")\n",
    "    plt.legend()\n",
    "\n",
    "    plt.tight_layout()\n",
    "    plt.show()\n",
    "\n",
    "# Example usage\n",
    "plot_hyperparameter_comparison(cnn_sweep_results, model=\"cnn\", metric=\"accuracy\")\n",
    "# plot_hyperparameter_comparison(cnn_sweep_results, model=\"cnn\", metric=\"precision\")\n",
    "# plot_hyperparameter_comparison(cnn_sweep_results, model=\"cnn\", metric=\"recall\")\n",
    "# plot_hyperparameter_comparison(cnn_sweep_results, model=\"cnn\", metric=\"f1\")\n",
    "\n",
    "plot_hyperparameter_comparison(mlp_sweep_results, model=\"mlp\", metric=\"accuracy\")\n",
    "# plot_hyperparameter_comparison(mlp_sweep_results, model=\"mlp\", metric=\"precision\")\n",
    "# plot_hyperparameter_comparison(mlp_sweep_results, model=\"mlp\", metric=\"recall\")\n",
    "# plot_hyperparameter_comparison(mlp_sweep_results, model=\"mlp\", metric=\"f1\")"
   ]
  },
  {
   "cell_type": "markdown",
   "metadata": {
    "collapsed": false,
    "id": "gRAC1JtAvtF8",
    "jupyter": {
     "outputs_hidden": false
    }
   },
   "source": [
    "Add two more layers to both `TwoLayerNet` and `ConvNet`. You can decide the size and placement of these layers. Evaluate if these changes result in higher performance and explain your findings."
   ]
  },
  {
   "cell_type": "code",
   "execution_count": null,
   "metadata": {
    "colab": {
     "base_uri": "https://localhost:8080/"
    },
    "id": "8XJZh3XIdttB",
    "outputId": "d0234086-fe27-4d3d-a9b2-23411a86a605"
   },
   "outputs": [],
   "source": [
    "# Tuned model MLP performance\n",
    "epochs = 10\n",
    "learning_rate = 0.0001\n",
    "batch_size = 64\n",
    "extra_layers = True\n",
    "transformations = True\n",
    "weight_decay = 0.8\n",
    "\n",
    "train_data_loader_mlp, test_data_loader_mlp = create_dataloaders(additional_transform=transformations, batch_size=batch_size, use_cache=True)"
   ]
  },
  {
   "cell_type": "code",
   "execution_count": null,
   "metadata": {
    "colab": {
     "base_uri": "https://localhost:8080/",
     "height": 1000
    },
    "id": "9y2oFwTM3PtN",
    "outputId": "114d8711-3ff9-4e7c-dbe5-8cda6e5f6f48"
   },
   "outputs": [],
   "source": [
    "mlp = TwoLayerNet(32 * 32 * 3, 1024, 100, extra_layers=extra_layers)\n",
    "criterion = nn.CrossEntropyLoss()\n",
    "optimizer_mlp = create_optimizer(mlp, learning_rate, weight_decay)\n",
    "\n",
    "mlp_epoch_performances, mlp_epoch_losses = train(mlp, train_data_loader_mlp, test_data_loader_mlp, criterion, optimizer_mlp, epochs)\n",
    "plot_epoch_performances(mlp_epoch_performances, model_name=\"MLP\")\n",
    "plot_epoch_performances(mlp_epoch_losses, model_name=\"MLP\", metric=\"loss\")\n",
    "\n",
    "test_mlp = validate(mlp, test_data_loader_mlp)\n",
    "print(\"MLP test accuracy: \", test_mlp)\n",
    "\n",
    "test_mlp_per_class = validate_per_class(mlp, test_data_loader_mlp, classes)\n",
    "print(\"Test Accuracy MLP per class: \", test_mlp_per_class)"
   ]
  },
  {
   "cell_type": "code",
   "execution_count": null,
   "metadata": {
    "colab": {
     "base_uri": "https://localhost:8080/"
    },
    "id": "0EPRd_ixvtF8",
    "outputId": "18a39aff-44fc-4a2b-db48-de2e560cc0d1"
   },
   "outputs": [],
   "source": [
    "# Tuned model CNN performance\n",
    "epochs = 100\n",
    "learning_rate = 1e-3\n",
    "batch_size = 512\n",
    "extra_layers = True\n",
    "transformations = True\n",
    "weight_decay = 0.8\n",
    "nonlinear_fn = \"relu\"\n",
    "\n",
    "train_data_loader_cnn, test_data_loader_cnn = create_dataloaders(additional_transform=transformations, batch_size=batch_size, use_cache=True)\n"
   ]
  },
  {
   "cell_type": "code",
   "execution_count": null,
   "metadata": {
    "colab": {
     "base_uri": "https://localhost:8080/",
     "height": 1000
    },
    "id": "-1prx5lyuR-B",
    "outputId": "919689c8-ca3b-43bf-ea3e-f60600d403dc"
   },
   "outputs": [],
   "source": [
    "conv_net = ConvNet(extra_layers=extra_layers)\n",
    "criterion = nn.CrossEntropyLoss()\n",
    "optimizer_cnn = create_optimizer(conv_net, learning_rate, weight_decay)\n",
    "\n",
    "cnn_epoch_performances, cnn_epoch_losses = train(conv_net, train_data_loader_cnn, test_data_loader_cnn, criterion, optimizer_cnn, epochs)\n",
    "plot_epoch_performances(cnn_epoch_performances, model_name=\"CNN\")\n",
    "plot_epoch_performances(cnn_epoch_losses, model_name=\"CNN\", metric=\"loss\")\n",
    "\n",
    "test_accuracy_cnn = validate(conv_net, test_data_loader_cnn)\n",
    "print(\"CNN test accuracy: \", test_accuracy_cnn)\n",
    "\n",
    "test_accuracy_cnn_per_class = validate_per_class(conv_net, test_data_loader_cnn, classes)\n",
    "print(\"Test Accuracy CNN per class: \", test_accuracy_cnn_per_class)\n"
   ]
  },
  {
   "cell_type": "code",
   "execution_count": null,
   "metadata": {
    "id": "NKPG1L96xh86"
   },
   "outputs": [],
   "source": [
    "def plot_accuracy_per_class(model_name, accuracy_per_class):\n",
    "  \"\"\"\n",
    "    Plot the top 5 and bottom 5 accuracies\n",
    "\n",
    "    Args:\n",
    "        model_name (str): Name of the model.\n",
    "        accuracy_per_class (dict): Dictionary containing class names and accuracies.\n",
    "\n",
    "    Returns:\n",
    "        None\n",
    "  \"\"\"\n",
    "  # Extract class names and accuracies\n",
    "  sorted_accuracy = sorted(accuracy_per_class.items(), key=lambda x: x[1], reverse=True)\n",
    "\n",
    "  # Get the bottom 5 and top 5 accuracies\n",
    "  bottom_5 = sorted_accuracy[-5:]\n",
    "  top_5 = sorted_accuracy[:5]\n",
    "\n",
    "  # Combine them for plotting\n",
    "  combined = top_5 + bottom_5\n",
    "  classes, accuracies = zip(*combined)  # Unzip into two lists\n",
    "\n",
    "  # Plotting\n",
    "  plt.figure(figsize=(10, 5))\n",
    "  plt.bar(classes, accuracies, color=['red' if acc < 30 else 'green' for acc in accuracies])\n",
    "\n",
    "  for i in range(len(combined)):\n",
    "        plt.text(i, accuracies[i], accuracies[i], ha = 'center')\n",
    "\n",
    "  plt.title(f'Top 5 and Bottom 5 Class Accuracies for {model_name}')\n",
    "  plt.xlabel('Class')\n",
    "  plt.ylabel('Accuracy (%)')\n",
    "  plt.xticks(rotation=45)\n",
    "  plt.ylim(0, 100)\n",
    "  plt.grid(axis='y')\n",
    "\n",
    "  # Show the plot\n",
    "  plt.show()"
   ]
  },
  {
   "cell_type": "code",
   "execution_count": null,
   "metadata": {
    "colab": {
     "base_uri": "https://localhost:8080/",
     "height": 918
    },
    "id": "hOGjgquWxtj1",
    "outputId": "ca3a45dc-98f8-437d-90c8-5f65feda7a02"
   },
   "outputs": [],
   "source": [
    "plot_accuracy_per_class(\"MLP\", test_mlp_per_class)\n",
    "plot_accuracy_per_class(\"CNN\", test_accuracy_cnn_per_class)"
   ]
  },
  {
   "cell_type": "code",
   "execution_count": 15,
   "metadata": {},
   "outputs": [
    {
     "name": "stdout",
     "output_type": "stream",
     "text": [
      "{'accuracy': 0.5169, 'precision': 0.5154182200485066, 'recall': 0.5169, 'f1': 0.513460343218621}\n"
     ]
    },
    {
     "data": {
      "application/vnd.jupyter.widget-view+json": {
       "model_id": "4b864ce0046243dabac8fc9e1e24dcbb",
       "version_major": 2,
       "version_minor": 0
      },
      "text/plain": [
       "  0%|          | 0/157 [00:00<?, ?it/s]"
      ]
     },
     "metadata": {},
     "output_type": "display_data"
    },
    {
     "data": {
      "text/plain": [
       "{'apple': 77.0,\n",
       " 'aquarium_fish': 70.0,\n",
       " 'baby': 39.0,\n",
       " 'bear': 30.0,\n",
       " 'beaver': 38.0,\n",
       " 'bed': 51.0,\n",
       " 'bee': 63.0,\n",
       " 'beetle': 56.0,\n",
       " 'bicycle': 60.0,\n",
       " 'bottle': 57.0,\n",
       " 'bowl': 32.0,\n",
       " 'boy': 36.0,\n",
       " 'bridge': 53.0,\n",
       " 'bus': 39.0,\n",
       " 'butterfly': 51.0,\n",
       " 'camel': 48.0,\n",
       " 'can': 56.0,\n",
       " 'castle': 66.0,\n",
       " 'caterpillar': 51.0,\n",
       " 'cattle': 37.0,\n",
       " 'chair': 74.0,\n",
       " 'chimpanzee': 66.0,\n",
       " 'clock': 54.0,\n",
       " 'cloud': 71.0,\n",
       " 'cockroach': 73.0,\n",
       " 'couch': 30.0,\n",
       " 'crab': 53.0,\n",
       " 'crocodile': 37.0,\n",
       " 'cup': 70.0,\n",
       " 'dinosaur': 52.0,\n",
       " 'dolphin': 53.0,\n",
       " 'elephant': 47.0,\n",
       " 'flatfish': 50.0,\n",
       " 'forest': 56.0,\n",
       " 'fox': 56.0,\n",
       " 'girl': 24.0,\n",
       " 'hamster': 53.0,\n",
       " 'house': 45.0,\n",
       " 'kangaroo': 29.0,\n",
       " 'keyboard': 65.0,\n",
       " 'lamp': 46.0,\n",
       " 'lawn_mower': 68.0,\n",
       " 'leopard': 40.0,\n",
       " 'lion': 59.0,\n",
       " 'lizard': 29.0,\n",
       " 'lobster': 31.0,\n",
       " 'man': 26.0,\n",
       " 'maple_tree': 61.0,\n",
       " 'motorcycle': 80.0,\n",
       " 'mountain': 66.0,\n",
       " 'mouse': 24.0,\n",
       " 'mushroom': 51.0,\n",
       " 'oak_tree': 68.0,\n",
       " 'orange': 76.0,\n",
       " 'orchid': 66.0,\n",
       " 'otter': 20.0,\n",
       " 'palm_tree': 72.0,\n",
       " 'pear': 51.0,\n",
       " 'pickup_truck': 62.0,\n",
       " 'pine_tree': 51.0,\n",
       " 'plain': 78.0,\n",
       " 'plate': 48.0,\n",
       " 'poppy': 59.0,\n",
       " 'porcupine': 48.0,\n",
       " 'possum': 22.0,\n",
       " 'rabbit': 33.0,\n",
       " 'raccoon': 50.0,\n",
       " 'ray': 44.0,\n",
       " 'road': 80.0,\n",
       " 'rocket': 76.0,\n",
       " 'rose': 59.0,\n",
       " 'sea': 76.0,\n",
       " 'seal': 25.0,\n",
       " 'shark': 42.0,\n",
       " 'shrew': 37.0,\n",
       " 'skunk': 76.0,\n",
       " 'skyscraper': 72.0,\n",
       " 'snail': 37.0,\n",
       " 'snake': 29.0,\n",
       " 'spider': 59.0,\n",
       " 'squirrel': 28.0,\n",
       " 'streetcar': 62.0,\n",
       " 'sunflower': 74.0,\n",
       " 'sweet_pepper': 43.0,\n",
       " 'table': 29.0,\n",
       " 'tank': 64.0,\n",
       " 'telephone': 49.0,\n",
       " 'television': 57.0,\n",
       " 'tiger': 56.0,\n",
       " 'tractor': 55.0,\n",
       " 'train': 52.0,\n",
       " 'trout': 66.0,\n",
       " 'tulip': 37.0,\n",
       " 'turtle': 25.0,\n",
       " 'wardrobe': 80.0,\n",
       " 'whale': 52.0,\n",
       " 'willow_tree': 41.0,\n",
       " 'wolf': 58.0,\n",
       " 'woman': 26.0,\n",
       " 'worm': 50.0}"
      ]
     },
     "execution_count": 15,
     "metadata": {},
     "output_type": "execute_result"
    }
   ],
   "source": [
    "class ConvNetFinal(nn.Module):\n",
    "    def __init__(self):\n",
    "        super(ConvNetFinal, self).__init__()\n",
    "        self.conv1 = nn.Conv2d(in_channels=3, out_channels=64, kernel_size=5)\n",
    "        self.conv2 = nn.Conv2d(in_channels=64, out_channels=96, kernel_size=3)\n",
    "        self.conv3 = nn.Conv2d(in_channels=96, out_channels=128, kernel_size=3)\n",
    "        self.conv4 = nn.Conv2d(in_channels=128, out_channels=128, kernel_size=3)\n",
    "        self.fcon1 = nn.Linear(in_features=512, out_features=256)\n",
    "        self.fcon2 = nn.Linear(in_features=256, out_features=128)\n",
    "        self.fcon3 = nn.Linear(in_features=128, out_features=100)\n",
    "        self.drop = nn.Dropout(p=0.55)\n",
    "        self.maxp1 = nn.MaxPool2d(kernel_size=2)\n",
    "        self.bn64 = nn.BatchNorm2d(64)\n",
    "        self.bn96 = nn.BatchNorm2d(96)\n",
    "        self.bn128 = nn.BatchNorm2d(128)\n",
    "\n",
    "    def forward(self, x):\n",
    "\n",
    "        x = F.relu(self.bn64(self.conv1(x)))\n",
    "        x = self.maxp1(x)\n",
    "\n",
    "        x = F.relu(self.bn96(self.conv2(x)))\n",
    "        x = self.maxp1(x)\n",
    "\n",
    "        x = F.relu(self.bn128(self.conv3(x)))\n",
    "\n",
    "        x = F.relu(self.bn128(self.conv4(x)))\n",
    "\n",
    "        x = x.flatten(start_dim=1)\n",
    "        x = F.relu(self.fcon1(x))\n",
    "        x = self.drop(x)\n",
    "\n",
    "        x = F.relu(self.fcon2(x))\n",
    "        x = self.drop(x)\n",
    "\n",
    "        x = self.fcon3(x)\n",
    "\n",
    "        return x\n",
    "\n",
    "def create_transforms(test=False):\n",
    "    if test:\n",
    "        tr_compose = transforms.Compose([\n",
    "            transforms.ToTensor(),\n",
    "            transforms.Normalize((0.5, 0.5, 0.5), (0.5, 0.5, 0.5))  \n",
    "        ])\n",
    "    else :\n",
    "        tr_compose = transforms.Compose([\n",
    "            transforms.RandomHorizontalFlip(p=0.5), \n",
    "            transforms.ColorJitter(brightness=0.1, contrast=0.2, saturation=0.2),\n",
    "            transforms.RandomRotation(10),\n",
    "            transforms.ToTensor(),\n",
    "            transforms.Normalize((0.5, 0.5, 0.5), (0.5, 0.5, 0.5)) \n",
    "        ])\n",
    "    return tr_compose\n",
    "\n",
    "\n",
    "conv3 = ConvNetFinal()\n",
    "checkpoint = torch.load('./models/CONVNET2_MIDLRDECAY_B64.pth')\n",
    "''' \n",
    "optimizer:  torch.optim.SGD(conv3.parameters(), lr=0.003, momentum=0.9, weight_decay=0.001)\n",
    "LR decay:   torch.optim.lr_scheduler.StepLR(optimizer, step_size=10, gamma=0.5)\n",
    "epochs:     50\n",
    "batch size: 64\n",
    "'''\n",
    "conv3.load_state_dict(checkpoint['model_state_dict'])\n",
    "device = torch.device(\"cuda\" if torch.cuda.is_available() else \"cpu\")\n",
    "conv3.to(device)\n",
    "\n",
    "trainset = CIFAR100_loader(root='./data', train=True, download=False, transform=create_transforms(test=False))\n",
    "testset = CIFAR100_loader(root='./data', train=False, download=False, transform=create_transforms(test=True))\n",
    "trainloader = DataLoader(trainset, batch_size=64, shuffle=True)\n",
    "testloader = DataLoader(testset, batch_size=64, shuffle=False)\n",
    "\n",
    "print(validate(conv3, testloader))\n",
    "validate_per_class(conv3, testloader, classes)"
   ]
  },
  {
   "cell_type": "code",
   "execution_count": 18,
   "metadata": {},
   "outputs": [
    {
     "data": {
      "image/png": "[encoded data removed]",
      "text/plain": [
       "<Figure size 640x480 with 1 Axes>"
      ]
     },
     "metadata": {},
     "output_type": "display_data"
    }
   ],
   "source": [
    "import pandas as pd\n",
    "\n",
    "def plot_epoch_performancesCSV(csv_path, model_name, metric=\"test_acc\"): # metric can also be 'train_acc' or 'loss'\n",
    "    '''\n",
    "    Plots the performance of the model for each epoch.\n",
    "\n",
    "    Args:\n",
    "        epoch_performances (list): List of dictionaries of the performance of the model for each epoch (accuracy, precision, recall, f1).\n",
    "        metric (str): The metric to plot.\n",
    "    '''\n",
    "\n",
    "    y = pd.read_csv(csv_path)[metric].to_numpy()\n",
    "    plt.title(f\"Test {metric} over training epochs for model {model_name}\")\n",
    "    plt.xlabel(\"Epoch\")\n",
    "    plt.ylabel(f\"{metric}\")\n",
    "    plt.plot(y)\n",
    "    plt.show()\n",
    "\n",
    "plot_epoch_performancesCSV('./models/CONVNET2_MIDLRDECAY_B64.csv', 'ConvNetFinal', 'test_acc')"
   ]
  },
  {
   "cell_type": "code",
   "execution_count": null,
   "metadata": {},
   "outputs": [],
   "source": []
  },
  {
   "cell_type": "markdown",
   "metadata": {
    "id": "8O4kI2zGvtF9"
   },
   "source": [
    "<a id=\"section-8\"></a>\n",
    "### **Section 8: Visualizing the STL-10 Dataset and Preparing the Data Loader (3 points)**\n",
    "\n",
    "In this section, you will work with a subset of the [STL-10](https://cs.stanford.edu/~acoates/stl10/) dataset, containing higher resolution images and different object classes than CIFAR-100. Before fine-tuning your ConvNet on this dataset, first complete the `visualise_stl10` function to display sample images from the following 5 classes:\n",
    "\n",
    "1. **Bird**\n",
    "2. **Deer**\n",
    "3. **Dog**\n",
    "4. **Horse**\n",
    "5. **Monkey**"
   ]
  },
  {
   "cell_type": "code",
   "execution_count": null,
   "metadata": {
    "ExecuteTime": {
     "start_time": "2024-10-12T13:48:07.603891Z"
    },
    "id": "04XTYWUDvtF9"
   },
   "outputs": [],
   "source": [
    "def visualise_stl10(class_mapping, train_set):\n",
    "    '''\n",
    "    Visualizes 5 images from each specified class in the STL-10 dataset.\n",
    "\n",
    "    Args:\n",
    "        class_mapping (dict): A dictionary mapping class indices to class names.\n",
    "    '''\n",
    "\n",
    "    # YOUR CODE HERE\n",
    "    data = torch.tensor(train_set.data)\n",
    "    labels = torch.tensor(train_set.labels)\n",
    "    fig, axs = plt.subplots(num_classes_per_superclass, num_samples, figsize=(25, 20))\n",
    "\n",
    "    for index, label in enumerate(class_mapping.keys()):\n",
    "        subset = data[labels == label]\n",
    "        random_indices = torch.randperm(subset.size(0))\n",
    "        \n",
    "        # Set the class name as the label for the first column\n",
    "        class_name = class_mapping[label]\n",
    "        axs[index, 0].set_ylabel(class_name, fontsize=16, rotation=0, labelpad=80, va='center')\n",
    "        \n",
    "        for num_sample, sample_index in enumerate(random_indices[ : num_samples]):\n",
    "            axs[index, num_sample].imshow(subset[sample_index].permute(1, 2, 0))\n",
    "            axs[index, num_sample].set_xticks([])\n",
    "            axs[index, num_sample].set_yticks([])\n",
    "        "
   ]
  },
  {
   "cell_type": "code",
   "execution_count": null,
   "metadata": {
    "ExecuteTime": {
     "end_time": "2024-10-12T13:48:07.610659Z",
     "start_time": "2024-10-12T13:48:07.606251Z"
    },
    "id": "JwIQHj3fvtF9"
   },
   "outputs": [],
   "source": [
    "# Define the transformations\n",
    "\n",
    "transform = transforms.Compose([\n",
    "transforms.ToTensor(),\n",
    "transforms.Normalize((0.5, 0.5, 0.5), (0.5, 0.5, 0.5))\n",
    "])\n",
    "\n",
    "\n",
    "# Load the STL-10 training set\n",
    "#train_set = torchvision.datasets.STL10(root='./data', download=True, transform=transform)\n",
    "\n",
    "# Define the class mapping for bird, deer, dog, horse, and monkey\n",
    "class_mapping = {1: 'bird', 4: 'deer', 5: 'dog', 6: 'horse', 7: 'monkey'}\n",
    "\n",
    "# Visualize STL-10 classes\n",
    "visualise_stl10(class_mapping, train_set)"
   ]
  },
  {
   "cell_type": "markdown",
   "metadata": {
    "id": "BdbpTzlJvtF9"
   },
   "source": [
    "After visualizing the data, implement the `STL10_loader` class to create a custom data loader that initializes the dataset, extracts the target classes, and applies the necessary image transformations. Once these tasks are completed, you will move on to fine-tuning the ConvNet on this dataset in the next section."
   ]
  },
  {
   "cell_type": "code",
   "execution_count": null,
   "metadata": {
    "ExecuteTime": {
     "start_time": "2024-10-12T13:48:07.608325Z"
    },
    "id": "xQArgILqvtF9"
   },
   "outputs": [],
   "source": [
    "class STL10_loader(Dataset):\n",
    "    def __init__(self, root, train=True, transform=None, download=False):\n",
    "        '''\n",
    "        Initializes the STL10 dataset.\n",
    "\n",
    "        Args:\n",
    "            root (str): Root directory of the dataset.\n",
    "            train (bool): If True, use the training set, otherwise use the test set.\n",
    "            transform (callable, optional): A function/transform to apply to the images.\n",
    "        '''\n",
    "\n",
    "        # YOUR CODE HERE\n",
    "        self.dataset = torchvision.datasets.STL10(root=root, split=('train' if train else 'test'), download=False, transform=transform)\n",
    "        self.labels = torch.tensor(self.dataset.labels)\n",
    "        target_classes = torch.tensor([1, 4, 5, 6, 7])\n",
    "\n",
    "        # Filter data and labels by target classes\n",
    "        self.filtered_indices = torch.isin(self.labels, target_classes)\n",
    "        self.filtered_data = torch.tensor(self.dataset.data[self.filtered_indices])\n",
    "        self.filtered_labels = self.labels[self.filtered_indices]\n",
    "\n",
    "\n",
    "    def __len__(self):\n",
    "        '''\n",
    "        Returns the number of samples in the dataset.\n",
    "        '''\n",
    "\n",
    "        # YOUR CODE HERE\n",
    "        return len(self.filtered_data)\n",
    "\n",
    "    def __getitem__(self, idx):\n",
    "        '''\n",
    "        Retrieves a sample from the dataset at the specified index.\n",
    "\n",
    "        Args:\n",
    "            idx (int): The index of the sample to retrieve.\n",
    "\n",
    "        Returns:\n",
    "            tuple: A tuple containing the transformed image and its target label.\n",
    "        '''\n",
    "\n",
    "        # YOUR CODE HERE\n",
    "        image = self.filtered_data[idx]\n",
    "        label = self.filtered_labels[idx]\n",
    "\n",
    "        return image.float(), label.long()"
   ]
  },
  {
   "cell_type": "code",
   "execution_count": null,
   "metadata": {},
   "outputs": [],
   "source": [
    "# from pathlib import Path\n",
    "\n",
    "# class STL10_loader(Dataset):\n",
    "#     def __init__(self, root, train=True, transform=None):\n",
    "#         '''\n",
    "#         Initializes the STL10 dataset.\n",
    "\n",
    "#         Args:\n",
    "#             root (str): Root directory of the dataset.\n",
    "#             train (bool): If True, use the training set, otherwise use the test set.\n",
    "#             transform (callable, optional): A function/transform to apply to the images.\n",
    "#         '''\n",
    "\n",
    "#         # YOUR CODE HERE\n",
    "#         self.root = root\n",
    "#         self.train = train\n",
    "#         self.transform = transform\n",
    "#         self.images = []\n",
    "#         self.labels = []\n",
    "\n",
    "#         CWD = Path(os.getcwd())\n",
    "#         ROOT = CWD/Path(self.root)\n",
    "        \n",
    "#         with open(ROOT/Path(f\"stl10_binary/{\"train\" if train else \"test\"}_X.bin\"), \"rb\") as f:\n",
    "#             num_imgs = 5000 if train else 8000\n",
    "#             imgs = np.fromfile(f, dtype=np.uint8)\n",
    "#             imgs = imgs.reshape((num_imgs, 3, 96, 96))\n",
    "#             imgs = np.transpose(imgs, (0, 2, 3, 1))\n",
    "#             for i in range(num_imgs):\n",
    "#                 self.images.append(Image.fromarray(imgs[i,:,:,:]))\n",
    "\n",
    "#         with open(ROOT/Path(f\"stl10_binary/{\"train\" if train else \"test\"}_y.bin\"), \"rb\") as f:\n",
    "#             self.labels = list(np.fromfile(f, dtype=np.uint8) - 1)\n",
    "\n",
    "#         labels_to_keep = [1,4,5,6,7]\n",
    "#         self.images = [img for img,lab in zip(self.images, self.labels) if lab in set(labels_to_keep)]\n",
    "#         self.labels = [lab for lab in self.labels if lab in set(labels_to_keep)]\n",
    "#         for idx in range(len(self.labels)):\n",
    "#             for i,j in enumerate(labels_to_keep):\n",
    "#                 self.labels[idx] = i if (self.labels[idx] == j) else self.labels[idx]\n",
    "            \n",
    "\n",
    "        \n",
    "#     def __len__(self):\n",
    "#         '''\n",
    "#         Returns the number of samples in the dataset.\n",
    "#         '''\n",
    "\n",
    "#         # YOUR CODE HERE\n",
    "#         return len(self.labels)\n",
    "\n",
    "#     def __getitem__(self, idx):\n",
    "#         '''\n",
    "#         Retrieves a sample from the dataset at the specified index.\n",
    "\n",
    "#         Args:\n",
    "#             idx (int): The index of the sample to retrieve.\n",
    "\n",
    "#         Returns:\n",
    "#             tuple: A tuple containing the transformed image and its target label.\n",
    "#         '''\n",
    "\n",
    "#         # YOUR CODE HERE\n",
    "#         if self.transform:\n",
    "#             return self.transform(self.images[idx]), self.labels[idx]\n",
    "#         else:\n",
    "#             to_tensor = transforms.ToTensor()\n",
    "#             return to_tensor(self.images[idx]), self.labels[idx]"
   ]
  },
  {
   "cell_type": "markdown",
   "metadata": {
    "id": "WV2nmek8vtF-"
   },
   "source": [
    "<a id=\"section-9\"></a>\n",
    "### **Section 9: Fine-tuning ConvNet on STL-10 (14 points)**\n",
    "\n",
    "In this section, you will load the pre-trained parameters of the ConvNet (trained on CIFAR-100) and modify the output layer to adapt it to the new dataset containing 5 classes. You can either first load the pre-trained parameters and then modify the output layer, or change the output layer before loading the matched pre-trained parameters. Once modified, you will train the model and document the settings of hyperparameters, accuracy, and learning curve. Additionally, visualize both the training loss and accuracy to assess the learning process. To gain a deeper understanding of the feature learning process, consider using techniques like [**t-sne**](https://lvdmaaten.github.io/tsne/) for feature space visualization."
   ]
  },
  {
   "cell_type": "code",
   "execution_count": null,
   "metadata": {
    "ExecuteTime": {
     "start_time": "2024-10-12T13:48:07.610543Z"
    },
    "id": "o6-uHSxQvtF-"
   },
   "outputs": [],
   "source": [
    "# YOUR CODE HERE\n",
    "# Tuned model CNN performance\n",
    "epochs = 100\n",
    "learning_rate = 1e-3\n",
    "batch_size = 512\n",
    "extra_layers = True\n",
    "transformations = True\n",
    "weight_decay = 0.8\n",
    "nonlinear_fn = \"relu\"\n",
    "\n",
    "train_data_loader_cnn, test_data_loader_cnn = create_dataloaders(additional_transform=transformations, batch_size=batch_size, use_cache=True, dataset='STL10')\n",
    "\n",
    "filtered_state_dict = {k: v for k, v in conv_net.state_dict().items() if k not in ['model.20.weight', 'model.20.bias']}\n",
    "new_conv_net.load_state_dict(filtered_state_dict, strict=False)\n",
    "new_conv_net = ConvNet(extra_layers=extra_layers, num_classes=5)\n",
    "new_conv_net.load_state_dict(filtered_state_dict, strict=False)\n",
    "\n",
    "criterion = nn.CrossEntropyLoss()\n",
    "optimizer_cnn = create_optimizer(new_conv_net, learning_rate, weight_decay)\n",
    "\n",
    "cnn_epoch_performances, cnn_epoch_losses = train(new_conv_net, train_data_loader_cnn, test_data_loader_cnn, criterion, optimizer_cnn, epochs)\n",
    "plot_epoch_performances(cnn_epoch_performances, model_name=\"CNN\")\n",
    "plot_epoch_performances(cnn_epoch_losses, model_name=\"CNN\", metric=\"loss\")\n",
    "\n",
    "test_accuracy_cnn = validate(new_conv_net, test_data_loader_cnn)\n",
    "print(\"CNN test accuracy: \", test_accuracy_cnn)\n",
    "\n",
    "test_accuracy_cnn_per_class = validate_per_class(new_conv_net, test_data_loader_cnn, classes)\n",
    "print(\"Test Accuracy CNN per class: \", test_accuracy_cnn_per_class)"
   ]
  },
  {
   "cell_type": "code",
   "execution_count": null,
   "metadata": {},
   "outputs": [],
   "source": [
    "print(conv_net.state_dict().keys())"
   ]
  },
  {
   "cell_type": "markdown",
   "metadata": {
    "id": "zkMVyK6UvtF-"
   },
   "source": [
    "<a id=\"section-10\"></a>\n",
    "### **Section 10: Bonus Challenge (optional)**\n",
    "\n",
    "Try to achieve the highest possible accuracy on the test dataset (5 classes from STL-10) by adjusting hyperparameters, modifying architectures, or applying techniques like data augmentation. The top-performing teams will earn bonus points that can significantly boost their final lab grade, even allowing it to exceed 10 (up to 11):\n",
    "\n",
    "- **1st place:** +1.0 to the final grade of the final lab\n",
    "- **2nd place:** +0.8 to the final grade of the final lab\n",
    "- **3rd place:** +0.6 to the final grade of the final lab\n",
    "- **4th place:** +0.4 to the final grade of the final lab\n",
    "- **5th place:** +0.2 to the final grade of the final lab\n",
    "\n",
    "**Hint:** You may use techniques like data augmentation, freezing early layers, modifying architecture, or optimizing hyperparameters. Only data from CIFAR-100 and STL-10 can be used, and you cannot add more than 3 additional convolutional layers."
   ]
  },
  {
   "cell_type": "code",
   "execution_count": null,
   "metadata": {
    "ExecuteTime": {
     "end_time": "2024-10-12T13:48:07.613122Z",
     "start_time": "2024-10-12T13:48:07.612859Z"
    },
    "id": "xB4qfUiHvtF-"
   },
   "outputs": [],
   "source": [
    "# YOUR CODE HERE"
   ]
  },
  {
   "cell_type": "markdown",
   "metadata": {
    "id": "Zp7vymljvtF-"
   },
   "source": [
    "<a id=\"section-x\"></a>\n",
    "### **Section X: Individual Contribution Report *(Mandatory)***\n",
    "\n",
    "Because we want each student to contribute fairly to the submitted work, we ask you to fill out the textcells below. Write down your contribution to each of the assignment components in percentages. Naturally, percentages for one particular component should add up to 100% (e.g. 30% - 30% - 40%). No further explanation has to be given."
   ]
  },
  {
   "cell_type": "markdown",
   "metadata": {
    "id": "AFlrdZkcvtF-"
   },
   "source": [
    "| Name                   | Contribution on Research | Contribution on Programming | Contribution on Writing |\n",
    "|------------------------|--------------------------|-----------------------------|-------------------------|\n",
    "| Pradyut Nair           | 25 %                     | 25 %                        | 25 %                    |\n",
    "| Benjamin Shaffrey      | 25 %                     | 25 %                        | 25 %                    |\n",
    "| Akshay Sardjoe Missier | 25 %                     | 25 %                        | 25 %                    |\n",
    "| Christina Isaicu       | 25 %                      | 25 %                         | 25 %                     |"
   ]
  },
  {
   "cell_type": "markdown",
   "metadata": {
    "id": "twW0FHwtvtF_"
   },
   "source": [
    "### - End of Notebook -"
   ]
  }
 ],
 "metadata": {
  "accelerator": "GPU",
  "colab": {
   "gpuType": "A100",
   "provenance": []
  },
  "kernelspec": {
   "display_name": "cv1",
   "language": "python",
   "name": "python3"
  },
  "language_info": {
   "codemirror_mode": {
    "name": "ipython",
    "version": 3
   },
   "file_extension": ".py",
   "mimetype": "text/x-python",
   "name": "python",
   "nbconvert_exporter": "python",
   "pygments_lexer": "ipython3",
   "version": "3.12.4"
  }
 },
 "nbformat": 4,
 "nbformat_minor": 4
}
